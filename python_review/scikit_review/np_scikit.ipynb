{
 "cells": [
  {
   "cell_type": "code",
   "execution_count": 1,
   "metadata": {},
   "outputs": [],
   "source": [
    "# Import numpy\n",
    "import numpy as np"
   ]
  },
  {
   "cell_type": "code",
   "execution_count": 2,
   "metadata": {},
   "outputs": [
    {
     "data": {
      "text/plain": [
       "'\\nThe basic type on numpy is the ndarray, it can have several dimensions, the main atributs of ndarray are:\\n- ndarray.dim: number of dimensions of the arrar (number of axes)\\n- ndarray.shape: returns a tuple of integers corresponding to the size of every dimension\\n- ndarray.dtype: types of all elements of the array\\n- ndarray.data: the data of the array\\n- ndarray.size: returns the total number of elements\\n'"
      ]
     },
     "execution_count": 2,
     "metadata": {},
     "output_type": "execute_result"
    }
   ],
   "source": [
    "'''\n",
    "The basic type on numpy is the ndarray, it can have several dimensions, the main atributs of ndarray are:\n",
    "- ndarray.dim: number of dimensions of the arrar (number of axes)\n",
    "- ndarray.shape: returns a tuple of integers corresponding to the size of every dimension\n",
    "- ndarray.dtype: types of all elements of the array\n",
    "- ndarray.data: the data of the array\n",
    "- ndarray.size: returns the total number of elements\n",
    "'''"
   ]
  },
  {
   "cell_type": "code",
   "execution_count": 3,
   "metadata": {},
   "outputs": [
    {
     "data": {
      "text/plain": [
       "array([1, 2, 3, 4])"
      ]
     },
     "execution_count": 3,
     "metadata": {},
     "output_type": "execute_result"
    }
   ],
   "source": [
    "# ndarray creation:\n",
    "ti = np.array([1, 2, 3, 4])\n",
    "ti"
   ]
  },
  {
   "cell_type": "code",
   "execution_count": 4,
   "metadata": {},
   "outputs": [
    {
     "data": {
      "text/plain": [
       "dtype('int64')"
      ]
     },
     "execution_count": 4,
     "metadata": {},
     "output_type": "execute_result"
    }
   ],
   "source": [
    "ti.dtype"
   ]
  },
  {
   "cell_type": "code",
   "execution_count": 5,
   "metadata": {},
   "outputs": [
    {
     "data": {
      "text/plain": [
       "dtype('float64')"
      ]
     },
     "execution_count": 5,
     "metadata": {},
     "output_type": "execute_result"
    }
   ],
   "source": [
    "ti1 = np.array([1.5, 2.5, 3.5, 4.6 ])\n",
    "ti1.dtype"
   ]
  },
  {
   "cell_type": "code",
   "execution_count": 6,
   "metadata": {},
   "outputs": [
    {
     "data": {
      "text/plain": [
       "array([[1.5, 2. , 3. ],\n",
       "       [4. , 5. , 6. ]])"
      ]
     },
     "execution_count": 6,
     "metadata": {},
     "output_type": "execute_result"
    }
   ],
   "source": [
    "ti2d = np.array([[1.5, 2, 3], [4, 5, 6]])\n",
    "ti2d"
   ]
  },
  {
   "cell_type": "code",
   "execution_count": 7,
   "metadata": {},
   "outputs": [
    {
     "data": {
      "text/plain": [
       "array([[1., 2., 3.],\n",
       "       [4., 5., 6.]])"
      ]
     },
     "execution_count": 7,
     "metadata": {},
     "output_type": "execute_result"
    }
   ],
   "source": [
    "# We can indicate the type of the array implicitly:\n",
    "ti2d2 = np.array([[1, 2, 3], [4, 5, 6]], dtype=float)\n",
    "ti2d2"
   ]
  },
  {
   "cell_type": "code",
   "execution_count": 8,
   "metadata": {},
   "outputs": [
    {
     "data": {
      "text/plain": [
       "array([[1, 2, 3],\n",
       "       [4, 5, 6]])"
      ]
     },
     "execution_count": 8,
     "metadata": {},
     "output_type": "execute_result"
    }
   ],
   "source": [
    "# We can indicate the type of the array implicitly:\n",
    "ti2d3 = np.array([[1, 2, 3], [4, 5, 6]], dtype=int)\n",
    "ti2d3"
   ]
  },
  {
   "cell_type": "code",
   "execution_count": 9,
   "metadata": {},
   "outputs": [
    {
     "data": {
      "text/plain": [
       "(2, 3)"
      ]
     },
     "execution_count": 9,
     "metadata": {},
     "output_type": "execute_result"
    }
   ],
   "source": [
    "# show the shape:\n",
    "ti2d3.shape"
   ]
  },
  {
   "cell_type": "code",
   "execution_count": 10,
   "metadata": {},
   "outputs": [
    {
     "data": {
      "text/plain": [
       "2"
      ]
     },
     "execution_count": 10,
     "metadata": {},
     "output_type": "execute_result"
    }
   ],
   "source": [
    "# show the dimension (number of axes)\n",
    "ti2d3.ndim"
   ]
  },
  {
   "cell_type": "code",
   "execution_count": 11,
   "metadata": {},
   "outputs": [
    {
     "data": {
      "text/plain": [
       "array([[0., 0., 0., 0.],\n",
       "       [0., 0., 0., 0.],\n",
       "       [0., 0., 0., 0.]])"
      ]
     },
     "execution_count": 11,
     "metadata": {},
     "output_type": "execute_result"
    }
   ],
   "source": [
    "# Array of zeros:\n",
    "tz2d = np.zeros((3,4))\n",
    "tz2d"
   ]
  },
  {
   "cell_type": "code",
   "execution_count": 12,
   "metadata": {},
   "outputs": [
    {
     "data": {
      "text/plain": [
       "array([[1., 1., 1., 1.],\n",
       "       [1., 1., 1., 1.],\n",
       "       [1., 1., 1., 1.]])"
      ]
     },
     "execution_count": 12,
     "metadata": {},
     "output_type": "execute_result"
    }
   ],
   "source": [
    "# Array of ones:\n",
    "to2d = np.ones((3,4))\n",
    "to2d"
   ]
  },
  {
   "cell_type": "code",
   "execution_count": 13,
   "metadata": {},
   "outputs": [
    {
     "data": {
      "text/plain": [
       "array([[1., 0., 0., 0., 0.],\n",
       "       [0., 1., 0., 0., 0.],\n",
       "       [0., 0., 1., 0., 0.],\n",
       "       [0., 0., 0., 1., 0.],\n",
       "       [0., 0., 0., 0., 1.]])"
      ]
     },
     "execution_count": 13,
     "metadata": {},
     "output_type": "execute_result"
    }
   ],
   "source": [
    "# Create an identity matrix\n",
    "id2d = np.eye(5)\n",
    "id2d"
   ]
  },
  {
   "cell_type": "code",
   "execution_count": 14,
   "metadata": {},
   "outputs": [
    {
     "data": {
      "text/plain": [
       "array([[1., 1., 1., 1.],\n",
       "       [1., 1., 1., 1.],\n",
       "       [1., 1., 1., 1.]])"
      ]
     },
     "execution_count": 14,
     "metadata": {},
     "output_type": "execute_result"
    }
   ],
   "source": [
    "# Create an array with uninitialized values\n",
    "tni2d = np.empty((3,4))\n",
    "tni2d"
   ]
  },
  {
   "cell_type": "code",
   "execution_count": 15,
   "metadata": {},
   "outputs": [
    {
     "data": {
      "text/plain": [
       "array([ 0,  5, 10, 15, 20, 25, 30, 35])"
      ]
     },
     "execution_count": 15,
     "metadata": {},
     "output_type": "execute_result"
    }
   ],
   "source": [
    "# Array spaced by 5 between 0 and 40\n",
    "ts1d = np.arange(0, 40, 5)\n",
    "ts1d"
   ]
  },
  {
   "cell_type": "code",
   "execution_count": 16,
   "metadata": {},
   "outputs": [
    {
     "data": {
      "text/plain": [
       "array([ 0.,  5., 10., 15., 20., 25., 30., 35.])"
      ]
     },
     "execution_count": 16,
     "metadata": {},
     "output_type": "execute_result"
    }
   ],
   "source": [
    "# Array with 8 elements equally spaced between 0 and 35\n",
    "ts1d2 = np.linspace(0, 35, 8)\n",
    "ts1d2"
   ]
  },
  {
   "cell_type": "code",
   "execution_count": 17,
   "metadata": {},
   "outputs": [
    {
     "data": {
      "text/plain": [
       "array([[0.36346877, 0.95936274, 0.80230105, 0.81233419, 0.1423261 ],\n",
       "       [0.59815764, 0.51632264, 0.95003904, 0.49511465, 0.3422599 ],\n",
       "       [0.56945212, 0.33813386, 0.14106763, 0.24291138, 0.25278073]])"
      ]
     },
     "execution_count": 17,
     "metadata": {},
     "output_type": "execute_result"
    }
   ],
   "source": [
    "# Array with random values\n",
    "ta2d = np.random.rand(3,5)\n",
    "ta2d"
   ]
  },
  {
   "cell_type": "code",
   "execution_count": 18,
   "metadata": {},
   "outputs": [
    {
     "data": {
      "text/plain": [
       "array([[ 0.32315713,  0.13667224,  1.22731535, -1.13050339,  0.79431942],\n",
       "       [-0.27178524, -0.21003929, -0.99837022, -0.59801979,  1.04425462],\n",
       "       [-1.06918025, -0.23702326,  1.42858986,  0.73918108,  0.6116437 ]])"
      ]
     },
     "execution_count": 18,
     "metadata": {},
     "output_type": "execute_result"
    }
   ],
   "source": [
    "# Generate array with random elements following a normal (gaussian) law:  ---------------------------Verify\n",
    "s = np.random.normal(0, 1, size = (3,5))\n",
    "s"
   ]
  },
  {
   "cell_type": "code",
   "execution_count": 19,
   "metadata": {
    "scrolled": true
   },
   "outputs": [
    {
     "data": {
      "text/plain": [
       "array([ 0,  1,  2,  3,  4,  5,  6,  7,  8,  9, 10, 11, 12, 13, 14, 15, 16,\n",
       "       17, 18, 19])"
      ]
     },
     "execution_count": 19,
     "metadata": {},
     "output_type": "execute_result"
    }
   ],
   "source": [
    "tr = np.arange(20)\n",
    "tr"
   ]
  },
  {
   "cell_type": "code",
   "execution_count": 20,
   "metadata": {},
   "outputs": [
    {
     "data": {
      "text/plain": [
       "array([[ 0,  1,  2,  3,  4],\n",
       "       [ 5,  6,  7,  8,  9],\n",
       "       [10, 11, 12, 13, 14],\n",
       "       [15, 16, 17, 18, 19]])"
      ]
     },
     "execution_count": 20,
     "metadata": {},
     "output_type": "execute_result"
    }
   ],
   "source": [
    "tr.reshape(4,5)"
   ]
  },
  {
   "cell_type": "code",
   "execution_count": 21,
   "metadata": {},
   "outputs": [
    {
     "data": {
      "text/plain": [
       "array([[ 0,  1,  2,  3,  4,  5,  6,  7,  8,  9],\n",
       "       [10, 11, 12, 13, 14, 15, 16, 17, 18, 19]])"
      ]
     },
     "execution_count": 21,
     "metadata": {},
     "output_type": "execute_result"
    }
   ],
   "source": [
    "tr.reshape(2,10)"
   ]
  },
  {
   "cell_type": "code",
   "execution_count": 22,
   "metadata": {},
   "outputs": [
    {
     "data": {
      "text/plain": [
       "array([ 0,  1,  2,  3,  4,  5,  6,  7,  8,  9, 10, 11, 12, 13, 14, 15, 16,\n",
       "       17, 18, 19])"
      ]
     },
     "execution_count": 22,
     "metadata": {},
     "output_type": "execute_result"
    }
   ],
   "source": [
    "tr.reshape(20)"
   ]
  },
  {
   "cell_type": "code",
   "execution_count": 23,
   "metadata": {},
   "outputs": [
    {
     "data": {
      "text/plain": [
       "array([0, 1, 2, 3, 4, 5])"
      ]
     },
     "execution_count": 23,
     "metadata": {},
     "output_type": "execute_result"
    }
   ],
   "source": [
    "# Array with first 6 elements:\n",
    "tr[:6]"
   ]
  },
  {
   "cell_type": "code",
   "execution_count": 24,
   "metadata": {},
   "outputs": [
    {
     "data": {
      "text/plain": [
       "array([0, 2, 4])"
      ]
     },
     "execution_count": 24,
     "metadata": {},
     "output_type": "execute_result"
    }
   ],
   "source": [
    "# Pick values with a specific step (in this case 2) until the 6th element\n",
    "tr[:6:2]"
   ]
  },
  {
   "cell_type": "code",
   "execution_count": 25,
   "metadata": {},
   "outputs": [
    {
     "data": {
      "text/plain": [
       "array([0, 1])"
      ]
     },
     "execution_count": 25,
     "metadata": {},
     "output_type": "execute_result"
    }
   ],
   "source": [
    "# the variable a points to first 2 elements of tr:\n",
    "a = tr[:2]\n",
    "a"
   ]
  },
  {
   "cell_type": "code",
   "execution_count": 26,
   "metadata": {},
   "outputs": [
    {
     "data": {
      "text/plain": [
       "array([ 3,  1,  2,  3,  4,  5,  6,  7,  8,  9, 10, 11, 12, 13, 14, 15, 16,\n",
       "       17, 18, 19])"
      ]
     },
     "execution_count": 26,
     "metadata": {},
     "output_type": "execute_result"
    }
   ],
   "source": [
    "# if we modify the first elements of a then the first element of tr will be modified\n",
    "a[0] = 3\n",
    "tr"
   ]
  },
  {
   "cell_type": "code",
   "execution_count": 27,
   "metadata": {},
   "outputs": [
    {
     "data": {
      "text/plain": [
       "array([3, 1])"
      ]
     },
     "execution_count": 27,
     "metadata": {},
     "output_type": "execute_result"
    }
   ],
   "source": [
    "# To obtain a copy of a array we need to use the method copy:\n",
    "b = tr[:2].copy()\n",
    "b"
   ]
  },
  {
   "cell_type": "code",
   "execution_count": 28,
   "metadata": {},
   "outputs": [
    {
     "data": {
      "text/plain": [
       "array([4, 1])"
      ]
     },
     "execution_count": 28,
     "metadata": {},
     "output_type": "execute_result"
    }
   ],
   "source": [
    "b[0] = 4\n",
    "b"
   ]
  },
  {
   "cell_type": "code",
   "execution_count": 29,
   "metadata": {},
   "outputs": [
    {
     "data": {
      "text/plain": [
       "array([ 3,  1,  2,  3,  4,  5,  6,  7,  8,  9, 10, 11, 12, 13, 14, 15, 16,\n",
       "       17, 18, 19])"
      ]
     },
     "execution_count": 29,
     "metadata": {},
     "output_type": "execute_result"
    }
   ],
   "source": [
    "tr"
   ]
  },
  {
   "cell_type": "code",
   "execution_count": 30,
   "metadata": {},
   "outputs": [
    {
     "data": {
      "text/plain": [
       "array([[0.53680273, 0.68348427, 0.51610649, 0.76764016, 0.33234529],\n",
       "       [0.14924841, 0.32684727, 0.2140061 , 0.44877156, 0.48661987],\n",
       "       [0.70424572, 0.84972437, 0.09226407, 0.39477504, 0.30850919]])"
      ]
     },
     "execution_count": 30,
     "metadata": {},
     "output_type": "execute_result"
    }
   ],
   "source": [
    "# Example: to extraire parts of a multidimensional array:\n",
    "ta2d = np.random.rand(3,5)\n",
    "ta2d"
   ]
  },
  {
   "cell_type": "code",
   "execution_count": 31,
   "metadata": {},
   "outputs": [
    {
     "data": {
      "text/plain": [
       "array([[0.53680273, 0.68348427],\n",
       "       [0.14924841, 0.32684727]])"
      ]
     },
     "execution_count": 31,
     "metadata": {},
     "output_type": "execute_result"
    }
   ],
   "source": [
    "ta2d[:2,:2]"
   ]
  },
  {
   "cell_type": "code",
   "execution_count": 32,
   "metadata": {},
   "outputs": [
    {
     "data": {
      "text/plain": [
       "array([[0.68348427, 0.76764016],\n",
       "       [0.32684727, 0.44877156],\n",
       "       [0.84972437, 0.39477504]])"
      ]
     },
     "execution_count": 32,
     "metadata": {},
     "output_type": "execute_result"
    }
   ],
   "source": [
    "# Extraction of odd colons of ta2d:\n",
    "ta2d[:, 1::2]"
   ]
  },
  {
   "cell_type": "code",
   "execution_count": 33,
   "metadata": {},
   "outputs": [
    {
     "name": "stdout",
     "output_type": "stream",
     "text": [
      "[0.53680273 0.68348427 0.51610649 0.76764016 0.33234529]\n",
      "[0.14924841 0.32684727 0.2140061  0.44877156 0.48661987]\n",
      "[0.70424572 0.84972437 0.09226407 0.39477504 0.30850919]\n"
     ]
    }
   ],
   "source": [
    "# When we do an iteration on a multidimensional array the last dimension index change the fastest \n",
    "# and the lower dimension index changes the slowest\n",
    "for x in ta2d:\n",
    "    print(x)"
   ]
  },
  {
   "cell_type": "code",
   "execution_count": 37,
   "metadata": {},
   "outputs": [],
   "source": [
    "# Read/write data from/to file"
   ]
  },
  {
   "cell_type": "code",
   "execution_count": 38,
   "metadata": {},
   "outputs": [],
   "source": [
    "# Read from file\n",
    "geyser = np.loadtxt('geyser.txt', delimiter=' ')"
   ]
  },
  {
   "cell_type": "code",
   "execution_count": 39,
   "metadata": {},
   "outputs": [
    {
     "data": {
      "text/plain": [
       "(272, 2)"
      ]
     },
     "execution_count": 39,
     "metadata": {},
     "output_type": "execute_result"
    }
   ],
   "source": [
    "geyser.shape"
   ]
  },
  {
   "cell_type": "code",
   "execution_count": 40,
   "metadata": {},
   "outputs": [
    {
     "data": {
      "text/plain": [
       "array([[ 3.6  , 79.   ],\n",
       "       [ 1.8  , 54.   ],\n",
       "       [ 3.333, 74.   ],\n",
       "       [ 2.283, 62.   ],\n",
       "       [ 4.533, 85.   ],\n",
       "       [ 2.883, 55.   ],\n",
       "       [ 4.7  , 88.   ],\n",
       "       [ 3.6  , 85.   ],\n",
       "       [ 1.95 , 51.   ],\n",
       "       [ 4.35 , 85.   ]])"
      ]
     },
     "execution_count": 40,
     "metadata": {},
     "output_type": "execute_result"
    }
   ],
   "source": [
    "geyser[:10, :]"
   ]
  },
  {
   "cell_type": "code",
   "execution_count": 42,
   "metadata": {},
   "outputs": [],
   "source": [
    "# write to file\n",
    "np.savetxt('geyserv_nouveau.txt', geyser, delimiter=', ')"
   ]
  },
  {
   "cell_type": "code",
   "execution_count": 43,
   "metadata": {},
   "outputs": [],
   "source": [
    "# Miscelaneous operation for 2d array"
   ]
  },
  {
   "cell_type": "code",
   "execution_count": 44,
   "metadata": {},
   "outputs": [
    {
     "data": {
      "text/plain": [
       "array([[1., 1.],\n",
       "       [1., 1.]])"
      ]
     },
     "execution_count": 44,
     "metadata": {},
     "output_type": "execute_result"
    }
   ],
   "source": [
    "tu2d = np.ones((2,2))\n",
    "tu2d"
   ]
  },
  {
   "cell_type": "code",
   "execution_count": 46,
   "metadata": {},
   "outputs": [
    {
     "data": {
      "text/plain": [
       "array([[2., 2.],\n",
       "       [2., 2.]])"
      ]
     },
     "execution_count": 46,
     "metadata": {},
     "output_type": "execute_result"
    }
   ],
   "source": [
    "tb2d = np.ones((2,2))*2\n",
    "tb2d"
   ]
  },
  {
   "cell_type": "code",
   "execution_count": 48,
   "metadata": {},
   "outputs": [
    {
     "data": {
      "text/plain": [
       "array([[1., 1.],\n",
       "       [1., 1.],\n",
       "       [2., 2.],\n",
       "       [2., 2.]])"
      ]
     },
     "execution_count": 48,
     "metadata": {},
     "output_type": "execute_result"
    }
   ],
   "source": [
    "tcl = np.concatenate((tu2d,tb2d),axis=0)  # ou np.vstack\n",
    "tcl"
   ]
  },
  {
   "cell_type": "code",
   "execution_count": 50,
   "metadata": {},
   "outputs": [
    {
     "data": {
      "text/plain": [
       "array([[1., 1., 2., 2.],\n",
       "       [1., 1., 2., 2.]])"
      ]
     },
     "execution_count": 50,
     "metadata": {},
     "output_type": "execute_result"
    }
   ],
   "source": [
    "tcl1 = np.concatenate((tu2d,tb2d),axis=1) # ou np.hstack\n",
    "tcl1"
   ]
  },
  {
   "cell_type": "code",
   "execution_count": 51,
   "metadata": {},
   "outputs": [
    {
     "data": {
      "text/plain": [
       "array([1., 1.])"
      ]
     },
     "execution_count": 51,
     "metadata": {},
     "output_type": "execute_result"
    }
   ],
   "source": [
    "# Adding an unidimensional array as a colonne to a bidimensionnel array\n",
    "from numpy import newaxis\n",
    "tu1d = np.ones(2)\n",
    "tu1d"
   ]
  },
  {
   "cell_type": "code",
   "execution_count": 52,
   "metadata": {},
   "outputs": [
    {
     "data": {
      "text/plain": [
       "array([[1.],\n",
       "       [1.]])"
      ]
     },
     "execution_count": 52,
     "metadata": {},
     "output_type": "execute_result"
    }
   ],
   "source": [
    "# Adding a new axis\n",
    "tu1d[:,newaxis]"
   ]
  },
  {
   "cell_type": "code",
   "execution_count": 53,
   "metadata": {},
   "outputs": [
    {
     "data": {
      "text/plain": [
       "array([[1., 2., 2.],\n",
       "       [1., 2., 2.]])"
      ]
     },
     "execution_count": 53,
     "metadata": {},
     "output_type": "execute_result"
    }
   ],
   "source": [
    "np.column_stack((tu1d[:, newaxis], tb2d))"
   ]
  },
  {
   "cell_type": "code",
   "execution_count": 54,
   "metadata": {},
   "outputs": [
    {
     "data": {
      "text/plain": [
       "array([[1., 2., 2.],\n",
       "       [1., 2., 2.]])"
      ]
     },
     "execution_count": 54,
     "metadata": {},
     "output_type": "execute_result"
    }
   ],
   "source": [
    "np.hstack((tu1d[:,newaxis],tb2d))"
   ]
  },
  {
   "cell_type": "code",
   "execution_count": 58,
   "metadata": {},
   "outputs": [
    {
     "data": {
      "text/plain": [
       "array([[6., 6.],\n",
       "       [6., 6.]])"
      ]
     },
     "execution_count": 58,
     "metadata": {},
     "output_type": "execute_result"
    }
   ],
   "source": [
    "tb2d*3"
   ]
  },
  {
   "cell_type": "code",
   "execution_count": 59,
   "metadata": {},
   "outputs": [
    {
     "data": {
      "text/plain": [
       "array([[4., 4.],\n",
       "       [4., 4.]])"
      ]
     },
     "execution_count": 59,
     "metadata": {},
     "output_type": "execute_result"
    }
   ],
   "source": [
    "tb2d**2"
   ]
  },
  {
   "cell_type": "code",
   "execution_count": 61,
   "metadata": {},
   "outputs": [
    {
     "data": {
      "text/plain": [
       "array([[18., 18.],\n",
       "       [18., 18.]])"
      ]
     },
     "execution_count": 61,
     "metadata": {},
     "output_type": "execute_result"
    }
   ],
   "source": [
    "tb2d *= 3\n",
    "tb2d"
   ]
  },
  {
   "cell_type": "code",
   "execution_count": 62,
   "metadata": {},
   "outputs": [
    {
     "data": {
      "text/plain": [
       "72.0"
      ]
     },
     "execution_count": 62,
     "metadata": {},
     "output_type": "execute_result"
    }
   ],
   "source": [
    "tb2d.sum()"
   ]
  },
  {
   "cell_type": "code",
   "execution_count": 63,
   "metadata": {},
   "outputs": [],
   "source": [
    "# Lineal algebre"
   ]
  },
  {
   "cell_type": "code",
   "execution_count": 64,
   "metadata": {},
   "outputs": [
    {
     "data": {
      "text/plain": [
       "array([[ 3.6, 79. ],\n",
       "       [ 1.8, 54. ]])"
      ]
     },
     "execution_count": 64,
     "metadata": {},
     "output_type": "execute_result"
    }
   ],
   "source": [
    "g0 = geyser[:2,:]\n",
    "g0"
   ]
  },
  {
   "cell_type": "code",
   "execution_count": 66,
   "metadata": {},
   "outputs": [
    {
     "data": {
      "text/plain": [
       "array([[ 3.6,  1.8],\n",
       "       [79. , 54. ]])"
      ]
     },
     "execution_count": 66,
     "metadata": {},
     "output_type": "execute_result"
    }
   ],
   "source": [
    "g0.transpose()"
   ]
  },
  {
   "cell_type": "code",
   "execution_count": 67,
   "metadata": {},
   "outputs": [
    {
     "data": {
      "text/plain": [
       "array([[ 1.03448276, -1.51340996],\n",
       "       [-0.03448276,  0.06896552]])"
      ]
     },
     "execution_count": 67,
     "metadata": {},
     "output_type": "execute_result"
    }
   ],
   "source": [
    "np.linalg.inv(g0)"
   ]
  },
  {
   "cell_type": "code",
   "execution_count": 69,
   "metadata": {},
   "outputs": [
    {
     "data": {
      "text/plain": [
       "array([[82.6, 82.6],\n",
       "       [55.8, 55.8]])"
      ]
     },
     "execution_count": 69,
     "metadata": {},
     "output_type": "execute_result"
    }
   ],
   "source": [
    "np.dot(g0,tu2d)"
   ]
  },
  {
   "cell_type": "code",
   "execution_count": 70,
   "metadata": {},
   "outputs": [
    {
     "data": {
      "text/plain": [
       "array([[ 3.6, 79. ],\n",
       "       [ 1.8, 54. ]])"
      ]
     },
     "execution_count": 70,
     "metadata": {},
     "output_type": "execute_result"
    }
   ],
   "source": [
    "np.dot(g0,np.eye(2))"
   ]
  },
  {
   "cell_type": "code",
   "execution_count": 71,
   "metadata": {},
   "outputs": [
    {
     "data": {
      "text/plain": [
       "57.6"
      ]
     },
     "execution_count": 71,
     "metadata": {},
     "output_type": "execute_result"
    }
   ],
   "source": [
    "g0.trace()"
   ]
  },
  {
   "cell_type": "code",
   "execution_count": 74,
   "metadata": {},
   "outputs": [
    {
     "data": {
      "text/plain": [
       "[[1, 2], [3, 4]]"
      ]
     },
     "execution_count": 74,
     "metadata": {},
     "output_type": "execute_result"
    }
   ],
   "source": [
    "tu2d2 = [[1, 2 ],[3, 4]]\n",
    "tu2d2"
   ]
  },
  {
   "cell_type": "code",
   "execution_count": 75,
   "metadata": {},
   "outputs": [
    {
     "data": {
      "text/plain": [
       "[[0, 10], [4, 5]]"
      ]
     },
     "execution_count": 75,
     "metadata": {},
     "output_type": "execute_result"
    }
   ],
   "source": [
    "tu2d3 = [[0, 10 ],[4, 5]]\n",
    "tu2d3"
   ]
  },
  {
   "cell_type": "code",
   "execution_count": 77,
   "metadata": {},
   "outputs": [
    {
     "data": {
      "text/plain": [
       "array([[ 8, 20],\n",
       "       [16, 50]])"
      ]
     },
     "execution_count": 77,
     "metadata": {},
     "output_type": "execute_result"
    }
   ],
   "source": [
    "np.dot(tu2d2, tu2d3)"
   ]
  },
  {
   "cell_type": "code",
   "execution_count": 78,
   "metadata": {},
   "outputs": [
    {
     "data": {
      "text/plain": [
       "array([[ 8, 20],\n",
       "       [16, 50]])"
      ]
     },
     "execution_count": 78,
     "metadata": {},
     "output_type": "execute_result"
    }
   ],
   "source": [
    "np.matmul(tu2d2, tu2d3)"
   ]
  },
  {
   "cell_type": "code",
   "execution_count": 79,
   "metadata": {},
   "outputs": [
    {
     "data": {
      "text/plain": [
       "array([[-5.42145594],\n",
       "       [ 0.31034483]])"
      ]
     },
     "execution_count": 79,
     "metadata": {},
     "output_type": "execute_result"
    }
   ],
   "source": [
    "# Linear system solution:\n",
    "y = np.array([[5.], [7.]])\n",
    "np.linalg.solve(g0, y)"
   ]
  },
  {
   "cell_type": "code",
   "execution_count": 81,
   "metadata": {},
   "outputs": [
    {
     "data": {
      "text/plain": [
       "(array([ 0.92097563, 56.67902437]), array([[-0.99942549, -0.83004523],\n",
       "        [ 0.03389222, -0.55769609]]))"
      ]
     },
     "execution_count": 81,
     "metadata": {},
     "output_type": "execute_result"
    }
   ],
   "source": [
    "vpvp = np.linalg.eig(g0)\n",
    "vpvp\n",
    "# vpvp[1][:,i] is the eigen vector corresponding to the eigen value vpvp[0][i]"
   ]
  },
  {
   "cell_type": "code",
   "execution_count": 102,
   "metadata": {},
   "outputs": [
    {
     "data": {
      "text/plain": [
       "2.724472121048303e-13"
      ]
     },
     "execution_count": 102,
     "metadata": {},
     "output_type": "execute_result"
    }
   ],
   "source": [
    "y_lambda = g0 - vpvp[0][0]*np.eye(2)\n",
    "np.linalg.det(y_lambda)"
   ]
  },
  {
   "cell_type": "code",
   "execution_count": 103,
   "metadata": {},
   "outputs": [
    {
     "data": {
      "text/plain": [
       "array([-4.77395901e-15,  6.59194921e-17])"
      ]
     },
     "execution_count": 103,
     "metadata": {},
     "output_type": "execute_result"
    }
   ],
   "source": [
    "np.dot(g0, vpvp[1][:,0]) - vpvp[0][0]*vpvp[1][:,0]"
   ]
  },
  {
   "cell_type": "code",
   "execution_count": 104,
   "metadata": {},
   "outputs": [],
   "source": [
    "# Function vectorization\n"
   ]
  },
  {
   "cell_type": "code",
   "execution_count": 105,
   "metadata": {},
   "outputs": [],
   "source": [
    "def addsubtract(a,b):\n",
    "    if a > b:\n",
    "        return a - b\n",
    "    else:\n",
    "        return a + b"
   ]
  },
  {
   "cell_type": "code",
   "execution_count": 106,
   "metadata": {},
   "outputs": [],
   "source": [
    "vec_addsubtract = np.vectorize(addsubtract)"
   ]
  },
  {
   "cell_type": "code",
   "execution_count": 107,
   "metadata": {},
   "outputs": [
    {
     "data": {
      "text/plain": [
       "array([[1., 1.],\n",
       "       [1., 1.]])"
      ]
     },
     "execution_count": 107,
     "metadata": {},
     "output_type": "execute_result"
    }
   ],
   "source": [
    "tu2d"
   ]
  },
  {
   "cell_type": "code",
   "execution_count": 108,
   "metadata": {},
   "outputs": [
    {
     "data": {
      "text/plain": [
       "array([[ 3.6, 79. ],\n",
       "       [ 1.8, 54. ]])"
      ]
     },
     "execution_count": 108,
     "metadata": {},
     "output_type": "execute_result"
    }
   ],
   "source": [
    "g0"
   ]
  },
  {
   "cell_type": "code",
   "execution_count": 109,
   "metadata": {},
   "outputs": [
    {
     "data": {
      "text/plain": [
       "array([[ 2.6, 78. ],\n",
       "       [ 0.8, 53. ]])"
      ]
     },
     "execution_count": 109,
     "metadata": {},
     "output_type": "execute_result"
    }
   ],
   "source": [
    "vec_addsubtract(g0,tu2d)"
   ]
  },
  {
   "cell_type": "code",
   "execution_count": 111,
   "metadata": {},
   "outputs": [],
   "source": [
    "# Scipy\n",
    "import scipy\n",
    "from scipy import linalg"
   ]
  },
  {
   "cell_type": "code",
   "execution_count": 112,
   "metadata": {},
   "outputs": [
    {
     "data": {
      "text/plain": [
       "52.199999999999996"
      ]
     },
     "execution_count": 112,
     "metadata": {},
     "output_type": "execute_result"
    }
   ],
   "source": [
    "linalg.det(g0)"
   ]
  },
  {
   "cell_type": "code",
   "execution_count": 113,
   "metadata": {},
   "outputs": [
    {
     "data": {
      "text/plain": [
       "95.7768239189419"
      ]
     },
     "execution_count": 113,
     "metadata": {},
     "output_type": "execute_result"
    }
   ],
   "source": [
    "linalg.norm(g0)"
   ]
  },
  {
   "cell_type": "code",
   "execution_count": 114,
   "metadata": {},
   "outputs": [
    {
     "data": {
      "text/plain": [
       "133.0"
      ]
     },
     "execution_count": 114,
     "metadata": {},
     "output_type": "execute_result"
    }
   ],
   "source": [
    "linalg.norm(g0,1)  # norme L1"
   ]
  },
  {
   "cell_type": "code",
   "execution_count": 117,
   "metadata": {},
   "outputs": [],
   "source": [
    "# Stats\n",
    "from scipy.stats import matrix_normal\n",
    "from scipy.stats import norm"
   ]
  },
  {
   "cell_type": "code",
   "execution_count": 127,
   "metadata": {},
   "outputs": [
    {
     "data": {
      "text/plain": [
       "array([[ 2.81434115,  9.6860711 , -0.13143692,  4.57442992,  2.76760871,\n",
       "         2.48596667],\n",
       "       [ 1.15234574,  1.00752864, -1.38121431, -0.65491081,  1.64364998,\n",
       "        -0.21379887],\n",
       "       [-0.90087802,  3.10926875, -0.26176114, -2.21930904,  3.67692844,\n",
       "         2.06246686],\n",
       "       [ 2.09609948, 11.33778501, -2.18725538,  2.28372275,  0.66100246,\n",
       "         2.23029012],\n",
       "       [ 0.42475195, -1.7576543 ,  3.4158196 ,  2.49973246, -0.09343703,\n",
       "        -1.72329159],\n",
       "       [-3.23876434,  2.21076656,  2.24561992,  2.58501439, -1.47883318,\n",
       "         4.15030903]])"
      ]
     },
     "execution_count": 127,
     "metadata": {},
     "output_type": "execute_result"
    }
   ],
   "source": [
    "norm_data = norm.rvs(size=(6, 6), loc=1, scale=3)\n",
    "norm_data"
   ]
  },
  {
   "cell_type": "code",
   "execution_count": 128,
   "metadata": {},
   "outputs": [
    {
     "data": {
      "text/plain": [
       "DescribeResult(nobs=6, minmax=(array([-3.23876434, -1.7576543 , -2.18725538, -2.21930904, -1.47883318,\n",
       "       -1.72329159]), array([ 2.81434115, 11.33778501,  3.4158196 ,  4.57442992,  3.67692844,\n",
       "        4.15030903])), mean=array([0.39131599, 4.26562762, 0.28329529, 1.51144661, 1.19615323,\n",
       "       1.49865704]), variance=array([ 4.8409741 , 26.3702743 ,  4.60134572,  6.14383522,  3.58579061,\n",
       "        4.43453306]), skewness=array([-0.62473134,  0.40389558,  0.40777266, -0.44158409, -0.07102782,\n",
       "       -0.42912655]), kurtosis=array([-0.75018486, -1.33877856, -1.22978273, -1.0518035 , -1.16960151,\n",
       "       -0.96015948]))"
      ]
     },
     "execution_count": 128,
     "metadata": {},
     "output_type": "execute_result"
    }
   ],
   "source": [
    "from scipy import stats\n",
    "stats.describe(norm_data, axis=0)"
   ]
  },
  {
   "cell_type": "code",
   "execution_count": 129,
   "metadata": {},
   "outputs": [
    {
     "data": {
      "text/plain": [
       "DescribeResult(nobs=272, minmax=(array([ 1.6, 43. ]), array([ 5.1, 96. ])), mean=array([ 3.48778309, 70.89705882]), variance=array([  1.30272833, 184.82331235]), skewness=array([-0.41584095, -0.41631878]), kurtosis=array([-1.50060036, -1.14263056]))"
      ]
     },
     "execution_count": 129,
     "metadata": {},
     "output_type": "execute_result"
    }
   ],
   "source": [
    "# stats for geyser by column\n",
    "stats.describe(geyser, axis=0)"
   ]
  },
  {
   "cell_type": "code",
   "execution_count": 130,
   "metadata": {},
   "outputs": [
    {
     "data": {
      "text/plain": [
       "DescribeResult(nobs=2, minmax=(array([3.6  , 1.8  , 3.333, 2.283, 4.533, 2.883, 4.7  , 3.6  , 1.95 ,\n",
       "       4.35 , 1.833, 3.917, 4.2  , 1.75 , 4.7  , 2.167, 1.75 , 4.8  ,\n",
       "       1.6  , 4.25 , 1.8  , 1.75 , 3.45 , 3.067, 4.533, 3.6  , 1.967,\n",
       "       4.083, 3.85 , 4.433, 4.3  , 4.467, 3.367, 4.033, 3.833, 2.017,\n",
       "       1.867, 4.833, 1.833, 4.783, 4.35 , 1.883, 4.567, 1.75 , 4.533,\n",
       "       3.317, 3.833, 2.1  , 4.633, 2.   , 4.8  , 4.716, 1.833, 4.833,\n",
       "       1.733, 4.883, 3.717, 1.667, 4.567, 4.317, 2.233, 4.5  , 1.75 ,\n",
       "       4.8  , 1.817, 4.4  , 4.167, 4.7  , 2.067, 4.7  , 4.033, 1.967,\n",
       "       4.5  , 4.   , 1.983, 5.067, 2.017, 4.567, 3.883, 3.6  , 4.133,\n",
       "       4.333, 4.1  , 2.633, 4.067, 4.933, 3.95 , 4.517, 2.167, 4.   ,\n",
       "       2.2  , 4.333, 1.867, 4.817, 1.833, 4.3  , 4.667, 3.75 , 1.867,\n",
       "       4.9  , 2.483, 4.367, 2.1  , 4.5  , 4.05 , 1.867, 4.7  , 1.783,\n",
       "       4.85 , 3.683, 4.733, 2.3  , 4.9  , 4.417, 1.7  , 4.633, 2.317,\n",
       "       4.6  , 1.817, 4.417, 2.617, 4.067, 4.25 , 1.967, 4.6  , 3.767,\n",
       "       1.917, 4.5  , 2.267, 4.65 , 1.867, 4.167, 2.8  , 4.333, 1.833,\n",
       "       4.383, 1.883, 4.933, 2.033, 3.733, 4.233, 2.233, 4.533, 4.817,\n",
       "       4.333, 1.983, 4.633, 2.017, 5.1  , 1.8  , 5.033, 4.   , 2.4  ,\n",
       "       4.6  , 3.567, 4.   , 4.5  , 4.083, 1.8  , 3.967, 2.2  , 4.15 ,\n",
       "       2.   , 3.833, 3.5  , 4.583, 2.367, 5.   , 1.933, 4.617, 1.917,\n",
       "       2.083, 4.583, 3.333, 4.167, 4.333, 4.5  , 2.417, 4.   , 4.167,\n",
       "       1.883, 4.583, 4.25 , 3.767, 2.033, 4.433, 4.083, 1.833, 4.417,\n",
       "       2.183, 4.8  , 1.833, 4.8  , 4.1  , 3.966, 4.233, 3.5  , 4.366,\n",
       "       2.25 , 4.667, 2.1  , 4.35 , 4.133, 1.867, 4.6  , 1.783, 4.367,\n",
       "       3.85 , 1.933, 4.5  , 2.383, 4.7  , 1.867, 3.833, 3.417, 4.233,\n",
       "       2.4  , 4.8  , 2.   , 4.15 , 1.867, 4.267, 1.75 , 4.483, 4.   ,\n",
       "       4.117, 4.083, 4.267, 3.917, 4.55 , 4.083, 2.417, 4.183, 2.217,\n",
       "       4.45 , 1.883, 1.85 , 4.283, 3.95 , 2.333, 4.15 , 2.35 , 4.933,\n",
       "       2.9  , 4.583, 3.833, 2.083, 4.367, 2.133, 4.35 , 2.2  , 4.45 ,\n",
       "       3.567, 4.5  , 4.15 , 3.817, 3.917, 4.45 , 2.   , 4.283, 4.767,\n",
       "       4.533, 1.85 , 4.25 , 1.983, 2.25 , 4.75 , 4.117, 2.15 , 4.417,\n",
       "       1.817, 4.467]), array([79., 54., 74., 62., 85., 55., 88., 85., 51., 85., 54., 84., 78.,\n",
       "       47., 83., 52., 62., 84., 52., 79., 51., 47., 78., 69., 74., 83.,\n",
       "       55., 76., 78., 79., 73., 77., 66., 80., 74., 52., 48., 80., 59.,\n",
       "       90., 80., 58., 84., 58., 73., 83., 64., 53., 82., 59., 75., 90.,\n",
       "       54., 80., 54., 83., 71., 64., 77., 81., 59., 84., 48., 82., 60.,\n",
       "       92., 78., 78., 65., 73., 82., 56., 79., 71., 62., 76., 60., 78.,\n",
       "       76., 83., 75., 82., 70., 65., 73., 88., 76., 80., 48., 86., 60.,\n",
       "       90., 50., 78., 63., 72., 84., 75., 51., 82., 62., 88., 49., 83.,\n",
       "       81., 47., 84., 52., 86., 81., 75., 59., 89., 79., 59., 81., 50.,\n",
       "       85., 59., 87., 53., 69., 77., 56., 88., 81., 45., 82., 55., 90.,\n",
       "       45., 83., 56., 89., 46., 82., 51., 86., 53., 79., 81., 60., 82.,\n",
       "       77., 76., 59., 80., 49., 96., 53., 77., 77., 65., 81., 71., 70.,\n",
       "       81., 93., 53., 89., 45., 86., 58., 78., 66., 76., 63., 88., 52.,\n",
       "       93., 49., 57., 77., 68., 81., 81., 73., 50., 85., 74., 55., 77.,\n",
       "       83., 83., 51., 78., 84., 46., 83., 55., 81., 57., 76., 84., 77.,\n",
       "       81., 87., 77., 51., 78., 60., 82., 91., 53., 78., 46., 77., 84.,\n",
       "       49., 83., 71., 80., 49., 75., 64., 76., 53., 94., 55., 76., 50.,\n",
       "       82., 54., 75., 78., 79., 78., 78., 70., 79., 70., 54., 86., 50.,\n",
       "       90., 54., 54., 77., 79., 64., 75., 47., 86., 63., 85., 82., 57.,\n",
       "       82., 67., 74., 54., 83., 73., 73., 88., 80., 71., 83., 56., 79.,\n",
       "       78., 84., 58., 83., 43., 60., 75., 81., 46., 90., 46., 74.])), mean=array([41.3   , 27.9   , 38.6665, 32.1415, 44.7665, 28.9415, 46.35  ,\n",
       "       44.3   , 26.475 , 44.675 , 27.9165, 43.9585, 41.1   , 24.375 ,\n",
       "       43.85  , 27.0835, 31.875 , 44.4   , 26.8   , 41.625 , 26.4   ,\n",
       "       24.375 , 40.725 , 36.0335, 39.2665, 43.3   , 28.4835, 40.0415,\n",
       "       40.925 , 41.7165, 38.65  , 40.7335, 34.6835, 42.0165, 38.9165,\n",
       "       27.0085, 24.9335, 42.4165, 30.4165, 47.3915, 42.175 , 29.9415,\n",
       "       44.2835, 29.875 , 38.7665, 43.1585, 33.9165, 27.55  , 43.3165,\n",
       "       30.5   , 39.9   , 47.358 , 27.9165, 42.4165, 27.8665, 43.9415,\n",
       "       37.3585, 32.8335, 40.7835, 42.6585, 30.6165, 44.25  , 24.875 ,\n",
       "       43.4   , 30.9085, 48.2   , 41.0835, 41.35  , 33.5335, 38.85  ,\n",
       "       43.0165, 28.9835, 41.75  , 37.5   , 31.9915, 40.5335, 31.0085,\n",
       "       41.2835, 39.9415, 43.3   , 39.5665, 43.1665, 37.05  , 33.8165,\n",
       "       38.5335, 46.4665, 39.975 , 42.2585, 25.0835, 45.    , 31.1   ,\n",
       "       47.1665, 25.9335, 41.4085, 32.4165, 38.15  , 44.3335, 39.375 ,\n",
       "       26.4335, 43.45  , 32.2415, 46.1835, 25.55  , 43.75  , 42.525 ,\n",
       "       24.4335, 44.35  , 26.8915, 45.425 , 42.3415, 39.8665, 30.65  ,\n",
       "       46.95  , 41.7085, 30.35  , 42.8165, 26.1585, 44.8   , 30.4085,\n",
       "       45.7085, 27.8085, 36.5335, 40.625 , 28.9835, 46.3   , 42.3835,\n",
       "       23.4585, 43.25  , 28.6335, 47.325 , 23.4335, 43.5835, 29.4   ,\n",
       "       46.6665, 23.9165, 43.1915, 26.4415, 45.4665, 27.5165, 41.3665,\n",
       "       42.6165, 31.1165, 43.2665, 40.9085, 40.1665, 30.4915, 42.3165,\n",
       "       25.5085, 50.55  , 27.4   , 41.0165, 40.5   , 33.7   , 42.8   ,\n",
       "       37.2835, 37.    , 42.75  , 48.5415, 27.4   , 46.4835, 23.6   ,\n",
       "       45.075 , 30.    , 40.9165, 34.75  , 40.2915, 32.6835, 46.5   ,\n",
       "       26.9665, 48.8085, 25.4585, 29.5415, 40.7915, 35.6665, 42.5835,\n",
       "       42.6665, 38.75  , 26.2085, 44.5   , 39.0835, 28.4415, 40.7915,\n",
       "       43.625 , 43.3835, 26.5165, 41.2165, 44.0415, 23.9165, 43.7085,\n",
       "       28.5915, 42.9   , 29.4165, 40.4   , 44.05  , 40.483 , 42.6165,\n",
       "       45.25  , 40.683 , 26.625 , 41.3335, 31.05  , 43.175 , 47.5665,\n",
       "       27.4335, 41.3   , 23.8915, 40.6835, 43.925 , 25.4665, 43.75  ,\n",
       "       36.6915, 42.35  , 25.4335, 39.4165, 33.7085, 40.1165, 27.7   ,\n",
       "       49.4   , 28.5   , 40.075 , 25.9335, 43.1335, 27.875 , 39.7415,\n",
       "       41.    , 41.5585, 41.0415, 41.1335, 36.9585, 41.775 , 37.0415,\n",
       "       28.2085, 45.0915, 26.1085, 47.225 , 27.9415, 27.925 , 40.6415,\n",
       "       41.475 , 33.1665, 39.575 , 24.675 , 45.4665, 32.95  , 44.7915,\n",
       "       42.9165, 29.5415, 43.1835, 34.5665, 39.175 , 28.1   , 43.725 ,\n",
       "       38.2835, 38.75  , 46.075 , 41.9085, 37.4585, 43.725 , 29.    ,\n",
       "       41.6415, 41.3835, 44.2665, 29.925 , 43.625 , 22.4915, 31.125 ,\n",
       "       39.875 , 42.5585, 24.075 , 47.2085, 23.9085, 39.2335]), variance=array([2842.58     , 1362.42     , 2496.9124445, 1783.0600445,\n",
       "       3237.4690445, 1358.0908445, 3469.445    , 3312.98     ,\n",
       "       1202.95125  , 3252.21125  , 1360.6979445, 3206.6434445,\n",
       "       2723.22     , 1023.78125  , 3065.445    , 1241.6639445,\n",
       "       1815.03125  , 3136.32     , 1270.08     , 2793.78125  ,\n",
       "       1210.32     , 1023.78125  , 2778.85125  , 2173.5802445,\n",
       "       2412.8320445, 3152.18     , 1406.2495445, 2586.0274445,\n",
       "       2749.11125  , 2780.1187445, 2359.845    , 2630.5180445,\n",
       "       1961.4463445, 2885.4925445, 2461.7039445, 1249.1501445,\n",
       "       1064.1268445, 2825.0389445, 1634.0329445, 3630.9685445,\n",
       "       2861.46125  , 1574.5588445, 3154.8007445, 1582.03125  ,\n",
       "       2343.8650445, 3174.6902445, 1810.0339445, 1295.405    ,\n",
       "       2992.8263445, 1624.5      , 2464.02     , 3636.680328 ,\n",
       "       1360.6979445, 2825.0389445, 1365.9196445, 3051.1328445,\n",
       "       2263.5010445, 1942.7014445, 2623.2697445, 2940.1412445,\n",
       "       1611.2461445, 3160.125    , 1069.53125  , 2979.92     ,\n",
       "       1692.6307445, 3836.88     , 2725.6559445, 2686.445    ,\n",
       "       1980.2812445, 2332.445    , 3039.4265445, 1459.7825445,\n",
       "       2775.125    , 2244.5      , 1801.0201445, 2515.7452445,\n",
       "       1681.0141445, 2696.2027445, 2600.4308445, 3152.18     ,\n",
       "       2511.0658445, 3016.0814445, 2171.405    , 1944.8213445,\n",
       "       2375.8792445, 3450.0632445, 2595.60125  , 2848.8416445,\n",
       "       1050.3319445, 3362.       , 1670.42     , 3669.4174445,\n",
       "       1158.3928445, 2677.8757445, 1870.7009445, 2291.645    ,\n",
       "       3146.8624445, 2538.28125  , 1207.0258445, 2972.205    ,\n",
       "       1771.1366445, 3497.2393445, 1099.805    , 3081.125    ,\n",
       "       2960.65125  , 1018.4938445, 3144.245    , 1260.8735445,\n",
       "       3292.66125  , 2988.9592445, 2468.7256445, 1607.445    ,\n",
       "       3536.405    , 2781.3119445, 1641.645    , 2915.9593445,\n",
       "       1136.8342445, 3232.08     , 1634.9477445, 3409.9759445,\n",
       "       1269.2233445, 2108.1472445, 2646.28125  , 1459.7825445,\n",
       "       3477.78     , 2982.4681445,  928.0724445, 3003.125    ,\n",
       "       1390.3846445, 3642.31125  ,  930.2278445, 3107.3209445,\n",
       "       1415.12     , 3584.2504445,  975.3619445, 3012.1993445,\n",
       "       1206.2398445, 3285.9292445, 1298.8175445, 2832.5606445,\n",
       "       2946.5861445, 1668.5131445, 3000.5680445, 2605.1927445,\n",
       "       2568.0794445, 1625.4691445, 2840.0923445, 1103.7011445,\n",
       "       4131.405    , 1310.72     , 2589.6245445, 2664.5      ,\n",
       "       1959.38     , 2918.48     , 2273.6047445, 2178.       ,\n",
       "       2926.125    , 3953.1164445, 1310.72     , 3615.3055445,\n",
       "        915.92     , 3349.71125  , 1568.       , 2750.3719445,\n",
       "       1953.125    , 2550.1939445, 1838.1803445, 3444.5      ,\n",
       "       1253.3522445, 3905.7773445, 1108.4044445, 1507.9384445,\n",
       "       2622.1109445, 2090.9104445, 2951.6549445, 2938.9144445,\n",
       "       2346.125    , 1132.0709445, 3280.5      , 2438.3239445,\n",
       "       1410.7078445, 2622.1109445, 3100.78125  , 3138.9341445,\n",
       "       1198.8835445, 2706.0517445, 3193.3634445,  975.3619445,\n",
       "       3087.6439445, 1394.8177445, 2903.22     , 1521.6989445,\n",
       "       2534.72     , 3192.005    , 2666.982578 , 2946.5861445,\n",
       "       3486.125    , 2637.848978 , 1188.28125  , 2688.8644445,\n",
       "       1676.205    , 3014.76125  , 3772.9378445, 1307.2918445,\n",
       "       2693.78     ,  977.5715445, 2637.7763445, 3212.01125  ,\n",
       "       1107.6512445, 3081.125    , 2354.1463445, 2835.045    ,\n",
       "       1110.7598445, 2532.3709445, 1835.1499445, 2575.2511445,\n",
       "       1280.18     , 3978.32     , 1404.5      , 2581.21125  ,\n",
       "       1158.3928445, 3021.2096445, 1365.03125  , 2486.3236445,\n",
       "       2738.       , 2803.7318445, 2731.8614445, 2718.2776445,\n",
       "       2183.4814445, 2771.40125  , 2172.5254445, 1330.4029445,\n",
       "       3347.0107445, 1141.6075445, 3659.40125  , 1358.0908445,\n",
       "       1359.81125  , 2643.8810445, 2816.25125  , 1901.4094445,\n",
       "       2509.86125  ,  996.81125  , 3285.9292445, 1806.005    ,\n",
       "       3233.4469445, 3055.0399445, 1507.9384445, 3013.4413445,\n",
       "       2103.8638445, 2425.56125  , 1341.62     , 3085.05125  ,\n",
       "       2410.4707445, 2346.125    , 3515.41125  , 2901.9247445,\n",
       "       2250.0644445, 3085.05125  , 1458.       , 2791.3150445,\n",
       "       2681.5361445, 3157.5020445, 1576.41125  , 3100.78125  ,\n",
       "        841.1971445, 1667.53125  , 2467.53125  , 2955.4978445,\n",
       "        961.41125  , 3662.2249445,  976.0687445, 2417.4190445]), skewness=array([ 2.03684213e-16,  1.02307777e-16,  0.00000000e+00,  0.00000000e+00,\n",
       "        0.00000000e+00, -2.05594705e-16,  0.00000000e+00,  2.15842483e-16,\n",
       "       -2.46622739e-16,  2.21920299e-16,  0.00000000e+00,  0.00000000e+00,\n",
       "        0.00000000e+00,  0.00000000e+00,  0.00000000e+00,  0.00000000e+00,\n",
       "        0.00000000e+00,  0.00000000e+00,  0.00000000e+00,  0.00000000e+00,\n",
       "        3.05467392e-16,  0.00000000e+00,  0.00000000e+00, -3.04623144e-16,\n",
       "        0.00000000e+00,  2.32567292e-16,  0.00000000e+00,  0.00000000e+00,\n",
       "        2.85546392e-16,  2.80782561e-16,  0.00000000e+00,  0.00000000e+00,\n",
       "       -1.77677227e-16,  0.00000000e+00,  0.00000000e+00, -1.74801219e-16,\n",
       "        1.48212579e-16,  0.00000000e+00,  0.00000000e+00,  0.00000000e+00,\n",
       "        2.68895383e-16, -1.64689843e-16, -2.90346945e-16,  0.00000000e+00,\n",
       "        0.00000000e+00, -2.30098143e-16,  0.00000000e+00,  0.00000000e+00,\n",
       "        2.51387033e-16,  0.00000000e+00,  0.00000000e+00,  1.87675447e-16,\n",
       "        0.00000000e+00,  0.00000000e+00,  2.03829684e-16,  3.05269550e-16,\n",
       "        0.00000000e+00,  0.00000000e+00, -3.06337895e-16, -1.93630658e-16,\n",
       "        2.38645682e-16,  0.00000000e+00,  0.00000000e+00,  0.00000000e+00,\n",
       "        0.00000000e+00, -1.73180036e-16,  0.00000000e+00,  0.00000000e+00,\n",
       "       -3.50296745e-16,  0.00000000e+00,  0.00000000e+00,  0.00000000e+00,\n",
       "        0.00000000e+00,  0.00000000e+00,  1.34625492e-16, -2.44639411e-16,\n",
       "       -1.49295978e-16, -2.93992553e-16,  2.32786853e-16,  2.32567292e-16,\n",
       "        2.45323562e-16,  0.00000000e+00,  3.05081001e-16,  1.79960358e-16,\n",
       "       -2.66556862e-16,  3.04660271e-16,  0.00000000e+00,  2.03013047e-16,\n",
       "        0.00000000e+00,  0.00000000e+00, -2.26077788e-16,  0.00000000e+00,\n",
       "        2.60988493e-16, -2.97015776e-16,  0.00000000e+00,  0.00000000e+00,\n",
       "        0.00000000e+00,  0.00000000e+00,  2.45374995e-16, -3.17509718e-16,\n",
       "       -1.38047026e-16, -1.99011016e-16,  0.00000000e+00,  0.00000000e+00,\n",
       "        0.00000000e+00,  2.37426291e-16,  0.00000000e+00,  0.00000000e+00,\n",
       "        3.26765223e-16,  3.14843820e-16, -3.35548968e-16,  2.39492675e-16,\n",
       "       -1.95714118e-16,  0.00000000e+00, -2.32047848e-16,  3.26740497e-16,\n",
       "        0.00000000e+00,  2.23996894e-16,  0.00000000e+00,  0.00000000e+00,\n",
       "        2.27561130e-16, -4.25220054e-16,  0.00000000e+00,  0.00000000e+00,\n",
       "        3.01025475e-16,  2.52697781e-16,  0.00000000e+00,  0.00000000e+00,\n",
       "       -1.98473585e-16, -2.80860604e-16,  1.81338976e-16,  0.00000000e+00,\n",
       "        1.93292612e-16,  0.00000000e+00,  0.00000000e+00,  2.48965738e-16,\n",
       "       -1.22807434e-16,  2.18513281e-16,  0.00000000e+00, -2.04765878e-16,\n",
       "       -3.21659549e-16,  2.26465457e-16,  0.00000000e+00, -2.32148896e-16,\n",
       "        0.00000000e+00,  1.57013525e-16,  2.71935845e-16, -2.80626008e-16,\n",
       "        2.32492931e-16,  2.16840434e-16,  0.00000000e+00,  0.00000000e+00,\n",
       "       -3.55916733e-16,  2.61053829e-16, -2.84743594e-16,  0.00000000e+00,\n",
       "        0.00000000e+00,  0.00000000e+00,  2.16840434e-16,  0.00000000e+00,\n",
       "       -2.78406973e-16, -2.12302003e-16,  0.00000000e+00,  0.00000000e+00,\n",
       "        0.00000000e+00,  0.00000000e+00, -1.95845790e-16,  0.00000000e+00,\n",
       "        0.00000000e+00, -2.52926996e-16,  0.00000000e+00,  0.00000000e+00,\n",
       "        0.00000000e+00,  0.00000000e+00,  0.00000000e+00,  0.00000000e+00,\n",
       "        0.00000000e+00,  0.00000000e+00,  0.00000000e+00,  0.00000000e+00,\n",
       "       -9.71000695e-17,  0.00000000e+00,  0.00000000e+00,  2.92551181e-16,\n",
       "        0.00000000e+00,  2.92388983e-16,  0.00000000e+00,  0.00000000e+00,\n",
       "        0.00000000e+00,  0.00000000e+00,  0.00000000e+00,  0.00000000e+00,\n",
       "        0.00000000e+00,  3.42342694e-16,  2.98837353e-16, -3.21659549e-16,\n",
       "        0.00000000e+00,  0.00000000e+00,  0.00000000e+00,  0.00000000e+00,\n",
       "        0.00000000e+00,  2.48648454e-16,  2.66401664e-16,  2.17693935e-16,\n",
       "        2.20791946e-16,  0.00000000e+00, -3.03814289e-16,  2.82624350e-16,\n",
       "        0.00000000e+00,  0.00000000e+00,  2.70256549e-16,  0.00000000e+00,\n",
       "        2.08466447e-16,  0.00000000e+00,  0.00000000e+00, -3.93682200e-16,\n",
       "        0.00000000e+00,  0.00000000e+00,  0.00000000e+00, -3.13855559e-16,\n",
       "        2.60988493e-16,  2.47852815e-16,  0.00000000e+00, -3.31992796e-16,\n",
       "        0.00000000e+00, -2.77242903e-16,  0.00000000e+00,  3.63023252e-16,\n",
       "        0.00000000e+00,  0.00000000e+00,  0.00000000e+00,  0.00000000e+00,\n",
       "        3.18838494e-16,  0.00000000e+00,  0.00000000e+00, -2.05594705e-16,\n",
       "        0.00000000e+00,  0.00000000e+00,  0.00000000e+00,  0.00000000e+00,\n",
       "       -3.27333594e-16,  0.00000000e+00,  2.18513281e-16, -3.35171239e-16,\n",
       "        0.00000000e+00,  0.00000000e+00,  0.00000000e+00, -3.11014795e-16,\n",
       "        3.19889487e-16,  2.58409243e-16, -1.04696190e-16,  0.00000000e+00,\n",
       "       -2.60839654e-16,  0.00000000e+00, -1.97469916e-16, -2.63290950e-16,\n",
       "        0.00000000e+00,  0.00000000e+00,  0.00000000e+00,  0.00000000e+00,\n",
       "        2.22305870e-16,  0.00000000e+00,  0.00000000e+00,  0.00000000e+00,\n",
       "        3.16314963e-16,  0.00000000e+00,  0.00000000e+00, -2.56164639e-16,\n",
       "        0.00000000e+00,  0.00000000e+00,  0.00000000e+00,  0.00000000e+00]), kurtosis=array([-2., -2., -2., -2., -2., -2., -2., -2., -2., -2., -2., -2., -2.,\n",
       "       -2., -2., -2., -2., -2., -2., -2., -2., -2., -2., -2., -2., -2.,\n",
       "       -2., -2., -2., -2., -2., -2., -2., -2., -2., -2., -2., -2., -2.,\n",
       "       -2., -2., -2., -2., -2., -2., -2., -2., -2., -2., -2., -2., -2.,\n",
       "       -2., -2., -2., -2., -2., -2., -2., -2., -2., -2., -2., -2., -2.,\n",
       "       -2., -2., -2., -2., -2., -2., -2., -2., -2., -2., -2., -2., -2.,\n",
       "       -2., -2., -2., -2., -2., -2., -2., -2., -2., -2., -2., -2., -2.,\n",
       "       -2., -2., -2., -2., -2., -2., -2., -2., -2., -2., -2., -2., -2.,\n",
       "       -2., -2., -2., -2., -2., -2., -2., -2., -2., -2., -2., -2., -2.,\n",
       "       -2., -2., -2., -2., -2., -2., -2., -2., -2., -2., -2., -2., -2.,\n",
       "       -2., -2., -2., -2., -2., -2., -2., -2., -2., -2., -2., -2., -2.,\n",
       "       -2., -2., -2., -2., -2., -2., -2., -2., -2., -2., -2., -2., -2.,\n",
       "       -2., -2., -2., -2., -2., -2., -2., -2., -2., -2., -2., -2., -2.,\n",
       "       -2., -2., -2., -2., -2., -2., -2., -2., -2., -2., -2., -2., -2.,\n",
       "       -2., -2., -2., -2., -2., -2., -2., -2., -2., -2., -2., -2., -2.,\n",
       "       -2., -2., -2., -2., -2., -2., -2., -2., -2., -2., -2., -2., -2.,\n",
       "       -2., -2., -2., -2., -2., -2., -2., -2., -2., -2., -2., -2., -2.,\n",
       "       -2., -2., -2., -2., -2., -2., -2., -2., -2., -2., -2., -2., -2.,\n",
       "       -2., -2., -2., -2., -2., -2., -2., -2., -2., -2., -2., -2., -2.,\n",
       "       -2., -2., -2., -2., -2., -2., -2., -2., -2., -2., -2., -2., -2.,\n",
       "       -2., -2., -2., -2., -2., -2., -2., -2., -2., -2., -2., -2.]))"
      ]
     },
     "execution_count": 130,
     "metadata": {},
     "output_type": "execute_result"
    }
   ],
   "source": [
    "# stats for geyser by row\n",
    "stats.describe(geyser, axis=1)"
   ]
  },
  {
   "cell_type": "code",
   "execution_count": 132,
   "metadata": {},
   "outputs": [],
   "source": [
    "# Matplotlib\n",
    "import matplotlib.pyplot as plt"
   ]
  },
  {
   "cell_type": "code",
   "execution_count": 133,
   "metadata": {},
   "outputs": [
    {
     "data": {
      "image/png": "[encoded data removed]",
      "text/plain": [
       "<Figure size 432x288 with 1 Axes>"
      ]
     },
     "metadata": {
      "needs_background": "light"
     },
     "output_type": "display_data"
    }
   ],
   "source": [
    "plt.plot(np.random.rand(100))\n",
    "plt.show()"
   ]
  },
  {
   "cell_type": "code",
   "execution_count": 135,
   "metadata": {},
   "outputs": [
    {
     "data": {
      "image/png": "[encoded data removed]",
      "text/plain": [
       "<Figure size 432x288 with 1 Axes>"
      ]
     },
     "metadata": {
      "needs_background": "light"
     },
     "output_type": "display_data"
    }
   ],
   "source": [
    "plt.plot(np.random.rand(100))\n",
    "plt.show(block=False)"
   ]
  },
  {
   "cell_type": "code",
   "execution_count": 137,
   "metadata": {},
   "outputs": [
    {
     "data": {
      "image/png": "[encoded data removed]",
      "text/plain": [
       "<Figure size 432x288 with 1 Axes>"
      ]
     },
     "metadata": {
      "needs_background": "light"
     },
     "output_type": "display_data"
    }
   ],
   "source": [
    "plt.plot(geyser)\n",
    "plt.title('Old Faithful Geyser Data')  # graph title\n",
    "plt.xlabel('numéro éruption')          # x label\n",
    "plt.ylabel('durée éruption/pause (min)')  # y label\n",
    "plt.legend(('Durée éruption', 'Durée pause'), loc='best')\n",
    "plt.show()"
   ]
  },
  {
   "cell_type": "code",
   "execution_count": 163,
   "metadata": {},
   "outputs": [
    {
     "data": {
      "text/plain": [
       "array([[ 1.12216910e-01,  8.10294118e+00],\n",
       "       [-1.68778309e+00, -1.68970588e+01],\n",
       "       [-1.54783090e-01,  3.10294118e+00],\n",
       "       [-1.20478309e+00, -8.89705882e+00],\n",
       "       [ 1.04521691e+00,  1.41029412e+01],\n",
       "       [-6.04783090e-01, -1.58970588e+01],\n",
       "       [ 1.21221691e+00,  1.71029412e+01],\n",
       "       [ 1.12216910e-01,  1.41029412e+01],\n",
       "       [-1.53778309e+00, -1.98970588e+01],\n",
       "       [ 8.62216910e-01,  1.41029412e+01],\n",
       "       [-1.65478309e+00, -1.68970588e+01],\n",
       "       [ 4.29216910e-01,  1.31029412e+01],\n",
       "       [ 7.12216910e-01,  7.10294118e+00],\n",
       "       [-1.73778309e+00, -2.38970588e+01],\n",
       "       [ 1.21221691e+00,  1.21029412e+01],\n",
       "       [-1.32078309e+00, -1.88970588e+01],\n",
       "       [-1.73778309e+00, -8.89705882e+00],\n",
       "       [ 1.31221691e+00,  1.31029412e+01],\n",
       "       [-1.88778309e+00, -1.88970588e+01],\n",
       "       [ 7.62216910e-01,  8.10294118e+00],\n",
       "       [-1.68778309e+00, -1.98970588e+01],\n",
       "       [-1.73778309e+00, -2.38970588e+01],\n",
       "       [-3.77830900e-02,  7.10294118e+00],\n",
       "       [-4.20783090e-01, -1.89705882e+00],\n",
       "       [ 1.04521691e+00,  3.10294118e+00],\n",
       "       [ 1.12216910e-01,  1.21029412e+01],\n",
       "       [-1.52078309e+00, -1.58970588e+01],\n",
       "       [ 5.95216910e-01,  5.10294118e+00],\n",
       "       [ 3.62216910e-01,  7.10294118e+00],\n",
       "       [ 9.45216910e-01,  8.10294118e+00],\n",
       "       [ 8.12216910e-01,  2.10294118e+00],\n",
       "       [ 9.79216910e-01,  6.10294118e+00],\n",
       "       [-1.20783090e-01, -4.89705882e+00],\n",
       "       [ 5.45216910e-01,  9.10294118e+00],\n",
       "       [ 3.45216910e-01,  3.10294118e+00],\n",
       "       [-1.47078309e+00, -1.88970588e+01],\n",
       "       [-1.62078309e+00, -2.28970588e+01],\n",
       "       [ 1.34521691e+00,  9.10294118e+00],\n",
       "       [-1.65478309e+00, -1.18970588e+01],\n",
       "       [ 1.29521691e+00,  1.91029412e+01],\n",
       "       [ 8.62216910e-01,  9.10294118e+00],\n",
       "       [-1.60478309e+00, -1.28970588e+01],\n",
       "       [ 1.07921691e+00,  1.31029412e+01],\n",
       "       [-1.73778309e+00, -1.28970588e+01],\n",
       "       [ 1.04521691e+00,  2.10294118e+00],\n",
       "       [-1.70783090e-01,  1.21029412e+01],\n",
       "       [ 3.45216910e-01, -6.89705882e+00],\n",
       "       [-1.38778309e+00, -1.78970588e+01],\n",
       "       [ 1.14521691e+00,  1.11029412e+01],\n",
       "       [-1.48778309e+00, -1.18970588e+01],\n",
       "       [ 1.31221691e+00,  4.10294118e+00],\n",
       "       [ 1.22821691e+00,  1.91029412e+01],\n",
       "       [-1.65478309e+00, -1.68970588e+01],\n",
       "       [ 1.34521691e+00,  9.10294118e+00],\n",
       "       [-1.75478309e+00, -1.68970588e+01],\n",
       "       [ 1.39521691e+00,  1.21029412e+01],\n",
       "       [ 2.29216910e-01,  1.02941180e-01],\n",
       "       [-1.82078309e+00, -6.89705882e+00],\n",
       "       [ 1.07921691e+00,  6.10294118e+00],\n",
       "       [ 8.29216910e-01,  1.01029412e+01],\n",
       "       [-1.25478309e+00, -1.18970588e+01],\n",
       "       [ 1.01221691e+00,  1.31029412e+01],\n",
       "       [-1.73778309e+00, -2.28970588e+01],\n",
       "       [ 1.31221691e+00,  1.11029412e+01],\n",
       "       [-1.67078309e+00, -1.08970588e+01],\n",
       "       [ 9.12216910e-01,  2.11029412e+01],\n",
       "       [ 6.79216910e-01,  7.10294118e+00],\n",
       "       [ 1.21221691e+00,  7.10294118e+00],\n",
       "       [-1.42078309e+00, -5.89705882e+00],\n",
       "       [ 1.21221691e+00,  2.10294118e+00],\n",
       "       [ 5.45216910e-01,  1.11029412e+01],\n",
       "       [-1.52078309e+00, -1.48970588e+01],\n",
       "       [ 1.01221691e+00,  8.10294118e+00],\n",
       "       [ 5.12216910e-01,  1.02941180e-01],\n",
       "       [-1.50478309e+00, -8.89705882e+00],\n",
       "       [ 1.57921691e+00,  5.10294118e+00],\n",
       "       [-1.47078309e+00, -1.08970588e+01],\n",
       "       [ 1.07921691e+00,  7.10294118e+00],\n",
       "       [ 3.95216910e-01,  5.10294118e+00],\n",
       "       [ 1.12216910e-01,  1.21029412e+01],\n",
       "       [ 6.45216910e-01,  4.10294118e+00],\n",
       "       [ 8.45216910e-01,  1.11029412e+01],\n",
       "       [ 6.12216910e-01, -8.97058820e-01],\n",
       "       [-8.54783090e-01, -5.89705882e+00],\n",
       "       [ 5.79216910e-01,  2.10294118e+00],\n",
       "       [ 1.44521691e+00,  1.71029412e+01],\n",
       "       [ 4.62216910e-01,  5.10294118e+00],\n",
       "       [ 1.02921691e+00,  9.10294118e+00],\n",
       "       [-1.32078309e+00, -2.28970588e+01],\n",
       "       [ 5.12216910e-01,  1.51029412e+01],\n",
       "       [-1.28778309e+00, -1.08970588e+01],\n",
       "       [ 8.45216910e-01,  1.91029412e+01],\n",
       "       [-1.62078309e+00, -2.08970588e+01],\n",
       "       [ 1.32921691e+00,  7.10294118e+00],\n",
       "       [-1.65478309e+00, -7.89705882e+00],\n",
       "       [ 8.12216910e-01,  1.10294118e+00],\n",
       "       [ 1.17921691e+00,  1.31029412e+01],\n",
       "       [ 2.62216910e-01,  4.10294118e+00],\n",
       "       [-1.62078309e+00, -1.98970588e+01],\n",
       "       [ 1.41221691e+00,  1.11029412e+01],\n",
       "       [-1.00478309e+00, -8.89705882e+00],\n",
       "       [ 8.79216910e-01,  1.71029412e+01],\n",
       "       [-1.38778309e+00, -2.18970588e+01],\n",
       "       [ 1.01221691e+00,  1.21029412e+01],\n",
       "       [ 5.62216910e-01,  1.01029412e+01],\n",
       "       [-1.62078309e+00, -2.38970588e+01],\n",
       "       [ 1.21221691e+00,  1.31029412e+01],\n",
       "       [-1.70478309e+00, -1.88970588e+01],\n",
       "       [ 1.36221691e+00,  1.51029412e+01],\n",
       "       [ 1.95216910e-01,  1.01029412e+01],\n",
       "       [ 1.24521691e+00,  4.10294118e+00],\n",
       "       [-1.18778309e+00, -1.18970588e+01],\n",
       "       [ 1.41221691e+00,  1.81029412e+01],\n",
       "       [ 9.29216910e-01,  8.10294118e+00],\n",
       "       [-1.78778309e+00, -1.18970588e+01],\n",
       "       [ 1.14521691e+00,  1.01029412e+01],\n",
       "       [-1.17078309e+00, -2.08970588e+01],\n",
       "       [ 1.11221691e+00,  1.41029412e+01],\n",
       "       [-1.67078309e+00, -1.18970588e+01],\n",
       "       [ 9.29216910e-01,  1.61029412e+01],\n",
       "       [-8.70783090e-01, -1.78970588e+01],\n",
       "       [ 5.79216910e-01, -1.89705882e+00],\n",
       "       [ 7.62216910e-01,  6.10294118e+00],\n",
       "       [-1.52078309e+00, -1.48970588e+01],\n",
       "       [ 1.11221691e+00,  1.71029412e+01],\n",
       "       [ 2.79216910e-01,  1.01029412e+01],\n",
       "       [-1.57078309e+00, -2.58970588e+01],\n",
       "       [ 1.01221691e+00,  1.11029412e+01],\n",
       "       [-1.22078309e+00, -1.58970588e+01],\n",
       "       [ 1.16221691e+00,  1.91029412e+01],\n",
       "       [-1.62078309e+00, -2.58970588e+01],\n",
       "       [ 6.79216910e-01,  1.21029412e+01],\n",
       "       [-6.87783090e-01, -1.48970588e+01],\n",
       "       [ 8.45216910e-01,  1.81029412e+01],\n",
       "       [-1.65478309e+00, -2.48970588e+01],\n",
       "       [ 8.95216910e-01,  1.11029412e+01],\n",
       "       [-1.60478309e+00, -1.98970588e+01],\n",
       "       [ 1.44521691e+00,  1.51029412e+01],\n",
       "       [-1.45478309e+00, -1.78970588e+01],\n",
       "       [ 2.45216910e-01,  8.10294118e+00],\n",
       "       [ 7.45216910e-01,  1.01029412e+01],\n",
       "       [-1.25478309e+00, -1.08970588e+01],\n",
       "       [ 1.04521691e+00,  1.11029412e+01],\n",
       "       [ 1.32921691e+00,  6.10294118e+00],\n",
       "       [ 8.45216910e-01,  5.10294118e+00],\n",
       "       [-1.50478309e+00, -1.18970588e+01],\n",
       "       [ 1.14521691e+00,  9.10294118e+00],\n",
       "       [-1.47078309e+00, -2.18970588e+01],\n",
       "       [ 1.61221691e+00,  2.51029412e+01],\n",
       "       [-1.68778309e+00, -1.78970588e+01],\n",
       "       [ 1.54521691e+00,  6.10294118e+00],\n",
       "       [ 5.12216910e-01,  6.10294118e+00],\n",
       "       [-1.08778309e+00, -5.89705882e+00],\n",
       "       [ 1.11221691e+00,  1.01029412e+01],\n",
       "       [ 7.92169100e-02,  1.02941180e-01],\n",
       "       [ 5.12216910e-01, -8.97058820e-01],\n",
       "       [ 1.01221691e+00,  1.01029412e+01],\n",
       "       [ 5.95216910e-01,  2.21029412e+01],\n",
       "       [-1.68778309e+00, -1.78970588e+01],\n",
       "       [ 4.79216910e-01,  1.81029412e+01],\n",
       "       [-1.28778309e+00, -2.58970588e+01],\n",
       "       [ 6.62216910e-01,  1.51029412e+01],\n",
       "       [-1.48778309e+00, -1.28970588e+01],\n",
       "       [ 3.45216910e-01,  7.10294118e+00],\n",
       "       [ 1.22169100e-02, -4.89705882e+00],\n",
       "       [ 1.09521691e+00,  5.10294118e+00],\n",
       "       [-1.12078309e+00, -7.89705882e+00],\n",
       "       [ 1.51221691e+00,  1.71029412e+01],\n",
       "       [-1.55478309e+00, -1.88970588e+01],\n",
       "       [ 1.12921691e+00,  2.21029412e+01],\n",
       "       [-1.57078309e+00, -2.18970588e+01],\n",
       "       [-1.40478309e+00, -1.38970588e+01],\n",
       "       [ 1.09521691e+00,  6.10294118e+00],\n",
       "       [-1.54783090e-01, -2.89705882e+00],\n",
       "       [ 6.79216910e-01,  1.01029412e+01],\n",
       "       [ 8.45216910e-01,  1.01029412e+01],\n",
       "       [ 1.01221691e+00,  2.10294118e+00],\n",
       "       [-1.07078309e+00, -2.08970588e+01],\n",
       "       [ 5.12216910e-01,  1.41029412e+01],\n",
       "       [ 6.79216910e-01,  3.10294118e+00],\n",
       "       [-1.60478309e+00, -1.58970588e+01],\n",
       "       [ 1.09521691e+00,  6.10294118e+00],\n",
       "       [ 7.62216910e-01,  1.21029412e+01],\n",
       "       [ 2.79216910e-01,  1.21029412e+01],\n",
       "       [-1.45478309e+00, -1.98970588e+01],\n",
       "       [ 9.45216910e-01,  7.10294118e+00],\n",
       "       [ 5.95216910e-01,  1.31029412e+01],\n",
       "       [-1.65478309e+00, -2.48970588e+01],\n",
       "       [ 9.29216910e-01,  1.21029412e+01],\n",
       "       [-1.30478309e+00, -1.58970588e+01],\n",
       "       [ 1.31221691e+00,  1.01029412e+01],\n",
       "       [-1.65478309e+00, -1.38970588e+01],\n",
       "       [ 1.31221691e+00,  5.10294118e+00],\n",
       "       [ 6.12216910e-01,  1.31029412e+01],\n",
       "       [ 4.78216910e-01,  6.10294118e+00],\n",
       "       [ 7.45216910e-01,  1.01029412e+01],\n",
       "       [ 1.22169100e-02,  1.61029412e+01],\n",
       "       [ 8.78216910e-01,  6.10294118e+00],\n",
       "       [-1.23778309e+00, -1.98970588e+01],\n",
       "       [ 1.17921691e+00,  7.10294118e+00],\n",
       "       [-1.38778309e+00, -1.08970588e+01],\n",
       "       [ 8.62216910e-01,  1.11029412e+01],\n",
       "       [ 6.45216910e-01,  2.01029412e+01],\n",
       "       [-1.62078309e+00, -1.78970588e+01],\n",
       "       [ 1.11221691e+00,  7.10294118e+00],\n",
       "       [-1.70478309e+00, -2.48970588e+01],\n",
       "       [ 8.79216910e-01,  6.10294118e+00],\n",
       "       [ 3.62216910e-01,  1.31029412e+01],\n",
       "       [-1.55478309e+00, -2.18970588e+01],\n",
       "       [ 1.01221691e+00,  1.21029412e+01],\n",
       "       [-1.10478309e+00,  1.02941180e-01],\n",
       "       [ 1.21221691e+00,  9.10294118e+00],\n",
       "       [-1.62078309e+00, -2.18970588e+01],\n",
       "       [ 3.45216910e-01,  4.10294118e+00],\n",
       "       [-7.07830900e-02, -6.89705882e+00],\n",
       "       [ 7.45216910e-01,  5.10294118e+00],\n",
       "       [-1.08778309e+00, -1.78970588e+01],\n",
       "       [ 1.31221691e+00,  2.31029412e+01],\n",
       "       [-1.48778309e+00, -1.58970588e+01],\n",
       "       [ 6.62216910e-01,  5.10294118e+00],\n",
       "       [-1.62078309e+00, -2.08970588e+01],\n",
       "       [ 7.79216910e-01,  1.11029412e+01],\n",
       "       [-1.73778309e+00, -1.68970588e+01],\n",
       "       [ 9.95216910e-01,  4.10294118e+00],\n",
       "       [ 5.12216910e-01,  7.10294118e+00],\n",
       "       [ 6.29216910e-01,  8.10294118e+00],\n",
       "       [ 5.95216910e-01,  7.10294118e+00],\n",
       "       [ 7.79216910e-01,  7.10294118e+00],\n",
       "       [ 4.29216910e-01, -8.97058820e-01],\n",
       "       [ 1.06221691e+00,  8.10294118e+00],\n",
       "       [ 5.95216910e-01, -8.97058820e-01],\n",
       "       [-1.07078309e+00, -1.68970588e+01],\n",
       "       [ 6.95216910e-01,  1.51029412e+01],\n",
       "       [-1.27078309e+00, -2.08970588e+01],\n",
       "       [ 9.62216910e-01,  1.91029412e+01],\n",
       "       [-1.60478309e+00, -1.68970588e+01],\n",
       "       [-1.63778309e+00, -1.68970588e+01],\n",
       "       [ 7.95216910e-01,  6.10294118e+00],\n",
       "       [ 4.62216910e-01,  8.10294118e+00],\n",
       "       [-1.15478309e+00, -6.89705882e+00],\n",
       "       [ 6.62216910e-01,  4.10294118e+00],\n",
       "       [-1.13778309e+00, -2.38970588e+01],\n",
       "       [ 1.44521691e+00,  1.51029412e+01],\n",
       "       [-5.87783090e-01, -7.89705882e+00],\n",
       "       [ 1.09521691e+00,  1.41029412e+01],\n",
       "       [ 3.45216910e-01,  1.11029412e+01],\n",
       "       [-1.40478309e+00, -1.38970588e+01],\n",
       "       [ 8.79216910e-01,  1.11029412e+01],\n",
       "       [-1.35478309e+00, -3.89705882e+00],\n",
       "       [ 8.62216910e-01,  3.10294118e+00],\n",
       "       [-1.28778309e+00, -1.68970588e+01],\n",
       "       [ 9.62216910e-01,  1.21029412e+01],\n",
       "       [ 7.92169100e-02,  2.10294118e+00],\n",
       "       [ 1.01221691e+00,  2.10294118e+00],\n",
       "       [ 6.62216910e-01,  1.71029412e+01],\n",
       "       [ 3.29216910e-01,  9.10294118e+00],\n",
       "       [ 4.29216910e-01,  1.02941180e-01],\n",
       "       [ 9.62216910e-01,  1.21029412e+01],\n",
       "       [-1.48778309e+00, -1.48970588e+01],\n",
       "       [ 7.95216910e-01,  8.10294118e+00],\n",
       "       [ 1.27921691e+00,  7.10294118e+00],\n",
       "       [ 1.04521691e+00,  1.31029412e+01],\n",
       "       [-1.63778309e+00, -1.28970588e+01],\n",
       "       [ 7.62216910e-01,  1.21029412e+01],\n",
       "       [-1.50478309e+00, -2.78970588e+01],\n",
       "       [-1.23778309e+00, -1.08970588e+01],\n",
       "       [ 1.26221691e+00,  4.10294118e+00],\n",
       "       [ 6.29216910e-01,  1.01029412e+01],\n",
       "       [-1.33778309e+00, -2.48970588e+01],\n",
       "       [ 9.29216910e-01,  1.91029412e+01],\n",
       "       [-1.67078309e+00, -2.48970588e+01],\n",
       "       [ 9.79216910e-01,  3.10294118e+00]])"
      ]
     },
     "execution_count": 163,
     "metadata": {},
     "output_type": "execute_result"
    }
   ],
   "source": [
    "geyser_mean = [[ 3.48778309, 70.89705882]] # or np.mean(geyser, axis=0)\n",
    "geyser_central = geyser - geyser_mean\n",
    "geyser_central"
   ]
  },
  {
   "cell_type": "code",
   "execution_count": 164,
   "metadata": {},
   "outputs": [
    {
     "data": {
      "text/plain": [
       "array([[ 0.09831762,  0.59602477],\n",
       "       [-1.47873279, -1.24289014],\n",
       "       [-0.13561152,  0.22824179],\n",
       "       [-1.05555759, -0.65443736],\n",
       "       [ 0.91575542,  1.03736435],\n",
       "       [-0.52987412, -1.16933354],\n",
       "       [ 1.06207065,  1.25803414],\n",
       "       [ 0.09831762,  1.03736435],\n",
       "       [-1.34731192, -1.46355992],\n",
       "       [ 0.75542196,  1.03736435],\n",
       "       [-1.4498202 , -1.24289014],\n",
       "       [ 0.37605372,  0.96380776],\n",
       "       [ 0.6240011 ,  0.52246818],\n",
       "       [-1.52253974, -1.75778631],\n",
       "       [ 1.06207065,  0.89025116],\n",
       "       [-1.15718973, -1.39000333],\n",
       "       [-1.52253974, -0.65443736],\n",
       "       [ 1.14968457,  0.96380776],\n",
       "       [-1.65396061, -1.39000333],\n",
       "       [ 0.66780805,  0.59602477],\n",
       "       [-1.47873279, -1.46355992],\n",
       "       [-1.52253974, -1.75778631],\n",
       "       [-0.03310324,  0.52246818],\n",
       "       [-0.36866453, -0.13954119],\n",
       "       [ 0.91575542,  0.22824179],\n",
       "       [ 0.09831762,  0.89025116],\n",
       "       [-1.33241755, -1.16933354],\n",
       "       [ 0.52149282,  0.37535498],\n",
       "       [ 0.3173524 ,  0.52246818],\n",
       "       [ 0.82814151,  0.59602477],\n",
       "       [ 0.71161501,  0.1546852 ],\n",
       "       [ 0.85793024,  0.44891158],\n",
       "       [-0.10582279, -0.36021098],\n",
       "       [ 0.47768586,  0.66958137],\n",
       "       [ 0.30245804,  0.22824179],\n",
       "       [-1.2886106 , -1.39000333],\n",
       "       [-1.42003147, -1.68422971],\n",
       "       [ 1.17859716,  0.66958137],\n",
       "       [-1.4498202 , -0.87510715],\n",
       "       [ 1.1347902 ,  1.40514733],\n",
       "       [ 0.75542196,  0.66958137],\n",
       "       [-1.40601324, -0.94866375],\n",
       "       [ 0.94554415,  0.96380776],\n",
       "       [-1.52253974, -0.94866375],\n",
       "       [ 0.91575542,  0.1546852 ],\n",
       "       [-0.14962975,  0.89025116],\n",
       "       [ 0.30245804, -0.50732417],\n",
       "       [-1.21589105, -1.31644673],\n",
       "       [ 1.00336933,  0.81669456],\n",
       "       [-1.30350496, -0.87510715],\n",
       "       [ 1.14968457,  0.30179839],\n",
       "       [ 1.07608888,  1.40514733],\n",
       "       [-1.4498202 , -1.24289014],\n",
       "       [ 1.17859716,  0.66958137],\n",
       "       [-1.53743411, -1.24289014],\n",
       "       [ 1.22240411,  0.89025116],\n",
       "       [ 0.2008259 ,  0.007572  ],\n",
       "       [-1.59525929, -0.50732417],\n",
       "       [ 0.94554415,  0.44891158],\n",
       "       [ 0.72650937,  0.74313797],\n",
       "       [-1.09936455, -0.87510715],\n",
       "       [ 0.88684283,  0.96380776],\n",
       "       [-1.52253974, -1.68422971],\n",
       "       [ 1.14968457,  0.81669456],\n",
       "       [-1.46383842, -0.80155056],\n",
       "       [ 0.79922892,  1.55226053],\n",
       "       [ 0.5950885 ,  0.52246818],\n",
       "       [ 1.06207065,  0.52246818],\n",
       "       [-1.24480364, -0.43376758],\n",
       "       [ 1.06207065,  0.1546852 ],\n",
       "       [ 0.47768586,  0.81669456],\n",
       "       [-1.33241755, -1.09577694],\n",
       "       [ 0.88684283,  0.59602477],\n",
       "       [ 0.44877327,  0.007572  ],\n",
       "       [-1.31839933, -0.65443736],\n",
       "       [ 1.38361371,  0.37535498],\n",
       "       [-1.2886106 , -0.80155056],\n",
       "       [ 0.94554415,  0.52246818],\n",
       "       [ 0.34626499,  0.37535498],\n",
       "       [ 0.09831762,  0.89025116],\n",
       "       [ 0.56529977,  0.30179839],\n",
       "       [ 0.7405276 ,  0.81669456],\n",
       "       [ 0.53638718, -0.06598459],\n",
       "       [-0.7489089 , -0.43376758],\n",
       "       [ 0.50747459,  0.1546852 ],\n",
       "       [ 1.26621107,  1.25803414],\n",
       "       [ 0.40496632,  0.37535498],\n",
       "       [ 0.9017372 ,  0.66958137],\n",
       "       [-1.15718973, -1.68422971],\n",
       "       [ 0.44877327,  1.11092095],\n",
       "       [-1.12827714, -0.80155056],\n",
       "       [ 0.7405276 ,  1.40514733],\n",
       "       [-1.42003147, -1.53711652],\n",
       "       [ 1.16457893,  0.52246818],\n",
       "       [-1.4498202 , -0.58088077],\n",
       "       [ 0.71161501,  0.0811286 ],\n",
       "       [ 1.03315806,  0.96380776],\n",
       "       [ 0.22973849,  0.30179839],\n",
       "       [-1.42003147, -1.46355992],\n",
       "       [ 1.23729848,  0.81669456],\n",
       "       [-0.88032977, -0.65443736],\n",
       "       [ 0.77031633,  1.25803414],\n",
       "       [-1.21589105, -1.61067312],\n",
       "       [ 0.88684283,  0.89025116],\n",
       "       [ 0.49258023,  0.74313797],\n",
       "       [-1.42003147, -1.75778631],\n",
       "       [ 1.06207065,  0.96380776],\n",
       "       [-1.49362715, -1.39000333],\n",
       "       [ 1.19349152,  1.11092095],\n",
       "       [ 0.17103717,  0.74313797],\n",
       "       [ 1.09098325,  0.30179839],\n",
       "       [-1.04066323, -0.87510715],\n",
       "       [ 1.23729848,  1.33159074],\n",
       "       [ 0.81412328,  0.59602477],\n",
       "       [-1.5663467 , -0.87510715],\n",
       "       [ 1.00336933,  0.74313797],\n",
       "       [-1.02576886, -1.53711652],\n",
       "       [ 0.97445674,  1.03736435],\n",
       "       [-1.46383842, -0.87510715],\n",
       "       [ 0.81412328,  1.18447755],\n",
       "       [-0.76292713, -1.31644673],\n",
       "       [ 0.50747459, -0.13954119],\n",
       "       [ 0.66780805,  0.44891158],\n",
       "       [-1.33241755, -1.09577694],\n",
       "       [ 0.97445674,  1.25803414],\n",
       "       [ 0.24463286,  0.74313797],\n",
       "       [-1.37622451, -1.9048995 ],\n",
       "       [ 0.88684283,  0.81669456],\n",
       "       [-1.06957582, -1.16933354],\n",
       "       [ 1.0182637 ,  1.40514733],\n",
       "       [-1.42003147, -1.9048995 ],\n",
       "       [ 0.5950885 ,  0.89025116],\n",
       "       [-0.60259367, -1.09577694],\n",
       "       [ 0.7405276 ,  1.33159074],\n",
       "       [-1.4498202 , -1.83134291],\n",
       "       [ 0.78433455,  0.81669456],\n",
       "       [-1.40601324, -1.46355992],\n",
       "       [ 1.26621107,  1.11092095],\n",
       "       [-1.27459237, -1.31644673],\n",
       "       [ 0.21484413,  0.59602477],\n",
       "       [ 0.65291369,  0.74313797],\n",
       "       [-1.09936455, -0.80155056],\n",
       "       [ 0.91575542,  0.81669456],\n",
       "       [ 1.16457893,  0.44891158],\n",
       "       [ 0.7405276 ,  0.37535498],\n",
       "       [-1.31839933, -0.87510715],\n",
       "       [ 1.00336933,  0.66958137],\n",
       "       [-1.2886106 , -1.61067312],\n",
       "       [ 1.4125263 ,  1.84648691],\n",
       "       [-1.47873279, -1.31644673],\n",
       "       [ 1.35382498,  0.44891158],\n",
       "       [ 0.44877327,  0.44891158],\n",
       "       [-0.95304932, -0.43376758],\n",
       "       [ 0.97445674,  0.74313797],\n",
       "       [ 0.06940503,  0.007572  ],\n",
       "       [ 0.44877327, -0.06598459],\n",
       "       [ 0.88684283,  0.74313797],\n",
       "       [ 0.52149282,  1.62581712],\n",
       "       [-1.47873279, -1.31644673],\n",
       "       [ 0.41986068,  1.33159074],\n",
       "       [-1.12827714, -1.9048995 ],\n",
       "       [ 0.58019414,  1.11092095],\n",
       "       [-1.30350496, -0.94866375],\n",
       "       [ 0.30245804,  0.52246818],\n",
       "       [ 0.01070371, -0.36021098],\n",
       "       [ 0.95956238,  0.37535498],\n",
       "       [-0.98196191, -0.58088077],\n",
       "       [ 1.32491239,  1.25803414],\n",
       "       [-1.36220628, -1.39000333],\n",
       "       [ 0.98935111,  1.62581712],\n",
       "       [-1.37622451, -1.61067312],\n",
       "       [-1.23078542, -1.02222035],\n",
       "       [ 0.95956238,  0.44891158],\n",
       "       [-0.13561152, -0.21309779],\n",
       "       [ 0.5950885 ,  0.74313797],\n",
       "       [ 0.7405276 ,  0.74313797],\n",
       "       [ 0.88684283,  0.1546852 ],\n",
       "       [-0.93815495, -1.53711652],\n",
       "       [ 0.44877327,  1.03736435],\n",
       "       [ 0.5950885 ,  0.22824179],\n",
       "       [-1.40601324, -1.16933354],\n",
       "       [ 0.95956238,  0.44891158],\n",
       "       [ 0.66780805,  0.89025116],\n",
       "       [ 0.24463286,  0.89025116],\n",
       "       [-1.27459237, -1.46355992],\n",
       "       [ 0.82814151,  0.52246818],\n",
       "       [ 0.52149282,  0.96380776],\n",
       "       [-1.4498202 , -1.83134291],\n",
       "       [ 0.81412328,  0.89025116],\n",
       "       [-1.14317151, -1.16933354],\n",
       "       [ 1.14968457,  0.74313797],\n",
       "       [-1.4498202 , -1.02222035],\n",
       "       [ 1.14968457,  0.37535498],\n",
       "       [ 0.53638718,  0.96380776],\n",
       "       [ 0.41898454,  0.44891158],\n",
       "       [ 0.65291369,  0.74313797],\n",
       "       [ 0.01070371,  1.18447755],\n",
       "       [ 0.76944019,  0.44891158],\n",
       "       [-1.08447018, -1.46355992],\n",
       "       [ 1.03315806,  0.52246818],\n",
       "       [-1.21589105, -0.80155056],\n",
       "       [ 0.75542196,  0.81669456],\n",
       "       [ 0.56529977,  1.47870393],\n",
       "       [-1.42003147, -1.31644673],\n",
       "       [ 0.97445674,  0.52246818],\n",
       "       [-1.49362715, -1.83134291],\n",
       "       [ 0.77031633,  0.44891158],\n",
       "       [ 0.3173524 ,  0.96380776],\n",
       "       [-1.36220628, -1.61067312],\n",
       "       [ 0.88684283,  0.89025116],\n",
       "       [-0.96794368,  0.007572  ],\n",
       "       [ 1.06207065,  0.66958137],\n",
       "       [-1.42003147, -1.61067312],\n",
       "       [ 0.30245804,  0.30179839],\n",
       "       [-0.06201583, -0.50732417],\n",
       "       [ 0.65291369,  0.37535498],\n",
       "       [-0.95304932, -1.31644673],\n",
       "       [ 1.14968457,  1.69937372],\n",
       "       [-1.30350496, -1.16933354],\n",
       "       [ 0.58019414,  0.37535498],\n",
       "       [-1.42003147, -1.53711652],\n",
       "       [ 0.68270242,  0.81669456],\n",
       "       [-1.52253974, -1.24289014],\n",
       "       [ 0.87194847,  0.30179839],\n",
       "       [ 0.44877327,  0.52246818],\n",
       "       [ 0.55128155,  0.59602477],\n",
       "       [ 0.52149282,  0.52246818],\n",
       "       [ 0.68270242,  0.52246818],\n",
       "       [ 0.37605372, -0.06598459],\n",
       "       [ 0.93064979,  0.59602477],\n",
       "       [ 0.52149282, -0.06598459],\n",
       "       [-0.93815495, -1.24289014],\n",
       "       [ 0.60910673,  1.11092095],\n",
       "       [-1.11338278, -1.53711652],\n",
       "       [ 0.84303587,  1.40514733],\n",
       "       [-1.40601324, -1.24289014],\n",
       "       [-1.43492583, -1.24289014],\n",
       "       [ 0.69672064,  0.44891158],\n",
       "       [ 0.40496632,  0.59602477],\n",
       "       [-1.01175064, -0.50732417],\n",
       "       [ 0.58019414,  0.30179839],\n",
       "       [-0.99685627, -1.75778631],\n",
       "       [ 1.26621107,  1.11092095],\n",
       "       [-0.51497976, -0.58088077],\n",
       "       [ 0.95956238,  1.03736435],\n",
       "       [ 0.30245804,  0.81669456],\n",
       "       [-1.23078542, -1.02222035],\n",
       "       [ 0.77031633,  0.81669456],\n",
       "       [-1.18697846, -0.28665438],\n",
       "       [ 0.75542196,  0.22824179],\n",
       "       [-1.12827714, -1.24289014],\n",
       "       [ 0.84303587,  0.89025116],\n",
       "       [ 0.06940503,  0.1546852 ],\n",
       "       [ 0.88684283,  0.1546852 ],\n",
       "       [ 0.58019414,  1.25803414],\n",
       "       [ 0.28843981,  0.66958137],\n",
       "       [ 0.37605372,  0.007572  ],\n",
       "       [ 0.84303587,  0.89025116],\n",
       "       [-1.30350496, -1.09577694],\n",
       "       [ 0.69672064,  0.59602477],\n",
       "       [ 1.12077198,  0.52246818],\n",
       "       [ 0.91575542,  0.96380776],\n",
       "       [-1.43492583, -0.94866375],\n",
       "       [ 0.66780805,  0.89025116],\n",
       "       [-1.31839933, -2.0520127 ],\n",
       "       [-1.08447018, -0.80155056],\n",
       "       [ 1.10587761,  0.30179839],\n",
       "       [ 0.55128155,  0.74313797],\n",
       "       [-1.1720841 , -1.83134291],\n",
       "       [ 0.81412328,  1.40514733],\n",
       "       [-1.46383842, -1.83134291],\n",
       "       [ 0.85793024,  0.22824179]])"
      ]
     },
     "execution_count": 164,
     "metadata": {},
     "output_type": "execute_result"
    }
   ],
   "source": [
    "std_dev = np.sqrt([[1.30272833, 184.82331235]]) # or np.std(geyser, axis=0)\n",
    "geyser_normalized = geyser_central/std_dev\n",
    "geyser_normalized"
   ]
  },
  {
   "cell_type": "code",
   "execution_count": 165,
   "metadata": {},
   "outputs": [
    {
     "data": {
      "text/plain": [
       "DescribeResult(nobs=272, minmax=(array([-1.65396061, -2.0520127 ]), array([1.4125263 , 1.84648691])), mean=array([-1.54612802e-09,  2.59611657e-10]), variance=array([1., 1.]), skewness=array([-0.41584095, -0.41631878]), kurtosis=array([-1.50060036, -1.14263056]))"
      ]
     },
     "execution_count": 165,
     "metadata": {},
     "output_type": "execute_result"
    }
   ],
   "source": [
    "stats.describe(geyser_normalized, axis=0)"
   ]
  },
  {
   "cell_type": "code",
   "execution_count": 168,
   "metadata": {},
   "outputs": [
    {
     "data": {
      "image/png": "[encoded data removed]",
      "text/plain": [
       "<Figure size 432x288 with 1 Axes>"
      ]
     },
     "metadata": {
      "needs_background": "light"
     },
     "output_type": "display_data"
    }
   ],
   "source": [
    "plt.plot(geyser[:,0], geyser[:,1])\n",
    "plt.show()"
   ]
  },
  {
   "cell_type": "code",
   "execution_count": 169,
   "metadata": {},
   "outputs": [
    {
     "data": {
      "image/png": "[encoded data removed]",
      "text/plain": [
       "<Figure size 432x288 with 1 Axes>"
      ]
     },
     "metadata": {
      "needs_background": "light"
     },
     "output_type": "display_data"
    }
   ],
   "source": [
    "plt.plot(geyser[:,0], geyser[:,1], 'r+')\n",
    "plt.show()"
   ]
  },
  {
   "cell_type": "code",
   "execution_count": 171,
   "metadata": {},
   "outputs": [
    {
     "data": {
      "image/png": "[encoded data removed]",
      "text/plain": [
       "<Figure size 432x288 with 1 Axes>"
      ]
     },
     "metadata": {
      "needs_background": "light"
     },
     "output_type": "display_data"
    }
   ],
   "source": [
    "plt.plot(geyser[:,0], geyser[:,1]*5, 'r+')\n",
    "plt.show()"
   ]
  },
  {
   "cell_type": "code",
   "execution_count": 174,
   "metadata": {},
   "outputs": [
    {
     "data": {
      "image/png": "[encoded data removed]",
      "text/plain": [
       "<Figure size 432x288 with 1 Axes>"
      ]
     },
     "metadata": {
      "needs_background": "light"
     },
     "output_type": "display_data"
    }
   ],
   "source": [
    "# scatter command:\n",
    "from mpl_toolkits.mplot3d import Axes3D\n",
    "fig = plt.figure()\n",
    "ax = fig.add_subplot(111, projection='3d')\n",
    "ax.scatter(np.random.randn(100), np.random.randn(100), np.random.randn(100))\n",
    "plt.show()"
   ]
  },
  {
   "cell_type": "code",
   "execution_count": 175,
   "metadata": {},
   "outputs": [
    {
     "data": {
      "image/png": "[encoded data removed]",
      "text/plain": [
       "<Figure size 432x288 with 1 Axes>"
      ]
     },
     "metadata": {
      "needs_background": "light"
     },
     "output_type": "display_data"
    }
   ],
   "source": [
    "fig1 = plt.figure()\n",
    "ax1 = fig1.add_subplot(111, projection='3d')\n",
    "ax1.scatter(np.random.randn(100), np.random.randn(100), np.random.randn(100), c='g')\n",
    "ax1.set_xlabel('X Label')\n",
    "ax1.set_ylabel('Y Label')\n",
    "ax1.set_zlabel('Z Label')\n",
    "plt.show()"
   ]
  },
  {
   "cell_type": "code",
   "execution_count": 185,
   "metadata": {},
   "outputs": [
    {
     "data": {
      "text/plain": [
       "array([[ 3.60000000e+00,  7.90000000e+01,  1.44064586e+00],\n",
       "       [ 1.80000000e+00,  5.40000000e+01,  3.92242293e-01],\n",
       "       [ 3.33300000e+00,  7.40000000e+01,  1.30805888e+00],\n",
       "       [ 2.28300000e+00,  6.20000000e+01,  9.85783122e-01],\n",
       "       [ 4.53300000e+00,  8.50000000e+01,  1.08482350e+00],\n",
       "       [ 2.88300000e+00,  5.50000000e+01,  7.34488616e-01],\n",
       "       [ 4.70000000e+00,  8.80000000e+01,  1.51544800e+00],\n",
       "       [ 3.60000000e+00,  8.50000000e+01, -1.28986543e+00],\n",
       "       [ 1.95000000e+00,  5.10000000e+01,  1.75901969e-01],\n",
       "       [ 4.35000000e+00,  8.50000000e+01,  8.45157914e-02],\n",
       "       [ 1.83300000e+00,  5.40000000e+01,  6.65421263e-01],\n",
       "       [ 3.91700000e+00,  8.40000000e+01, -3.97252147e-01],\n",
       "       [ 4.20000000e+00,  7.80000000e+01,  1.37872951e-01],\n",
       "       [ 1.75000000e+00,  4.70000000e+01, -2.46871102e-01],\n",
       "       [ 4.70000000e+00,  8.30000000e+01,  1.06805014e+00],\n",
       "       [ 2.16700000e+00,  5.20000000e+01, -1.41170036e+00],\n",
       "       [ 1.75000000e+00,  6.20000000e+01,  1.18486337e-01],\n",
       "       [ 4.80000000e+00,  8.40000000e+01, -1.33280298e+00],\n",
       "       [ 1.60000000e+00,  5.20000000e+01, -1.47240822e+00],\n",
       "       [ 4.25000000e+00,  7.90000000e+01,  3.30289792e-01],\n",
       "       [ 1.80000000e+00,  5.10000000e+01,  7.34572569e-01],\n",
       "       [ 1.75000000e+00,  4.70000000e+01, -9.79750068e-01],\n",
       "       [ 3.45000000e+00,  7.80000000e+01, -5.76144182e-01],\n",
       "       [ 3.06700000e+00,  6.90000000e+01,  3.89345355e-01],\n",
       "       [ 4.53300000e+00,  7.40000000e+01,  1.58053378e-01],\n",
       "       [ 3.60000000e+00,  8.30000000e+01,  6.12205636e-01],\n",
       "       [ 1.96700000e+00,  5.50000000e+01,  9.96312586e-01],\n",
       "       [ 4.08300000e+00,  7.60000000e+01,  1.49433011e+00],\n",
       "       [ 3.85000000e+00,  7.80000000e+01, -4.30135213e-01],\n",
       "       [ 4.43300000e+00,  7.90000000e+01, -8.83344565e-01],\n",
       "       [ 4.30000000e+00,  7.30000000e+01,  7.97049221e-02],\n",
       "       [ 4.46700000e+00,  7.70000000e+01,  4.79095251e-01],\n",
       "       [ 3.36700000e+00,  6.60000000e+01, -1.37886266e+00],\n",
       "       [ 4.03300000e+00,  8.00000000e+01, -1.29077402e+00],\n",
       "       [ 3.83300000e+00,  7.40000000e+01, -8.11021190e-01],\n",
       "       [ 2.01700000e+00,  5.20000000e+01,  1.35753055e+00],\n",
       "       [ 1.86700000e+00,  4.80000000e+01,  1.43539111e-03],\n",
       "       [ 4.83300000e+00,  8.00000000e+01, -8.12241780e-02],\n",
       "       [ 1.83300000e+00,  5.90000000e+01,  6.29626456e-01],\n",
       "       [ 4.78300000e+00,  9.00000000e+01,  3.62232533e+00],\n",
       "       [ 4.35000000e+00,  8.00000000e+01,  1.35090521e+00],\n",
       "       [ 1.88300000e+00,  5.80000000e+01, -1.90477805e+00],\n",
       "       [ 4.56700000e+00,  8.40000000e+01, -9.50083007e-01],\n",
       "       [ 1.75000000e+00,  5.80000000e+01,  1.18698370e+00],\n",
       "       [ 4.53300000e+00,  7.30000000e+01, -1.57557000e+00],\n",
       "       [ 3.31700000e+00,  8.30000000e+01,  2.74784345e-01],\n",
       "       [ 3.83300000e+00,  6.40000000e+01, -1.75054730e-01],\n",
       "       [ 2.10000000e+00,  5.30000000e+01,  1.06382269e+00],\n",
       "       [ 4.63300000e+00,  8.20000000e+01,  1.02333169e+00],\n",
       "       [ 2.00000000e+00,  5.90000000e+01, -1.41614857e+00],\n",
       "       [ 4.80000000e+00,  7.50000000e+01,  1.06696626e+00],\n",
       "       [ 4.71600000e+00,  9.00000000e+01, -9.76024381e-01],\n",
       "       [ 1.83300000e+00,  5.40000000e+01,  1.02966312e+00],\n",
       "       [ 4.83300000e+00,  8.00000000e+01,  2.82330077e-01],\n",
       "       [ 1.73300000e+00,  5.40000000e+01, -2.02884704e-01],\n",
       "       [ 4.88300000e+00,  8.30000000e+01,  1.01306308e+00],\n",
       "       [ 3.71700000e+00,  7.10000000e+01, -2.27143531e-01],\n",
       "       [ 1.66700000e+00,  6.40000000e+01,  5.86301759e-02],\n",
       "       [ 4.56700000e+00,  7.70000000e+01, -1.76329250e+00],\n",
       "       [ 4.31700000e+00,  8.10000000e+01,  1.28103734e-01],\n",
       "       [ 2.23300000e+00,  5.90000000e+01,  2.51472729e-01],\n",
       "       [ 4.50000000e+00,  8.40000000e+01, -5.72260583e-01],\n",
       "       [ 1.75000000e+00,  4.80000000e+01,  5.60498884e-01],\n",
       "       [ 4.80000000e+00,  8.20000000e+01,  6.94060864e-02],\n",
       "       [ 1.81700000e+00,  6.00000000e+01,  9.01443463e-01],\n",
       "       [ 4.40000000e+00,  9.20000000e+01, -1.12744807e+00],\n",
       "       [ 4.16700000e+00,  7.80000000e+01,  7.26995369e-01],\n",
       "       [ 4.70000000e+00,  7.80000000e+01, -1.01369050e-01],\n",
       "       [ 2.06700000e+00,  6.50000000e+01,  5.37919651e-01],\n",
       "       [ 4.70000000e+00,  7.30000000e+01, -1.50595195e+00],\n",
       "       [ 4.03300000e+00,  8.20000000e+01,  9.48247447e-01],\n",
       "       [ 1.96700000e+00,  5.60000000e+01, -2.27447721e+00],\n",
       "       [ 4.50000000e+00,  7.90000000e+01,  6.21737001e-01],\n",
       "       [ 4.00000000e+00,  7.10000000e+01, -3.06064708e-02],\n",
       "       [ 1.98300000e+00,  6.20000000e+01,  1.63658105e+00],\n",
       "       [ 5.06700000e+00,  7.60000000e+01, -7.20857278e-02],\n",
       "       [ 2.01700000e+00,  6.00000000e+01,  2.66518732e+00],\n",
       "       [ 4.56700000e+00,  7.80000000e+01,  6.85866431e-01],\n",
       "       [ 3.88300000e+00,  7.60000000e+01,  1.03453671e+00],\n",
       "       [ 3.60000000e+00,  8.30000000e+01,  1.27430037e-01],\n",
       "       [ 4.13300000e+00,  7.50000000e+01, -1.37668877e-02],\n",
       "       [ 4.33300000e+00,  8.20000000e+01,  3.17733224e+00],\n",
       "       [ 4.10000000e+00,  7.00000000e+01,  1.34958700e+00],\n",
       "       [ 2.63300000e+00,  6.50000000e+01, -6.62662354e-01],\n",
       "       [ 4.06700000e+00,  7.30000000e+01,  4.44180570e-01],\n",
       "       [ 4.93300000e+00,  8.80000000e+01, -2.93310508e-01],\n",
       "       [ 3.95000000e+00,  7.60000000e+01, -1.65775122e+00],\n",
       "       [ 4.51700000e+00,  8.00000000e+01,  2.03148809e-01],\n",
       "       [ 2.16700000e+00,  4.80000000e+01,  1.33394295e+00],\n",
       "       [ 4.00000000e+00,  8.60000000e+01, -6.18907187e-01],\n",
       "       [ 2.20000000e+00,  6.00000000e+01, -8.93674388e-01],\n",
       "       [ 4.33300000e+00,  9.00000000e+01, -3.11891379e-01],\n",
       "       [ 1.86700000e+00,  5.00000000e+01,  1.72773106e+00],\n",
       "       [ 4.81700000e+00,  7.80000000e+01, -7.46538273e-01],\n",
       "       [ 1.83300000e+00,  6.30000000e+01, -1.74966416e+00],\n",
       "       [ 4.30000000e+00,  7.20000000e+01, -4.47212303e-01],\n",
       "       [ 4.66700000e+00,  8.40000000e+01, -1.59857202e+00],\n",
       "       [ 3.75000000e+00,  7.50000000e+01,  1.02945293e+00],\n",
       "       [ 1.86700000e+00,  5.10000000e+01, -1.54799825e+00],\n",
       "       [ 4.90000000e+00,  8.20000000e+01, -2.81880728e-02],\n",
       "       [ 2.48300000e+00,  6.20000000e+01,  5.85645156e-01],\n",
       "       [ 4.36700000e+00,  8.80000000e+01, -8.81334682e-01],\n",
       "       [ 2.10000000e+00,  4.90000000e+01, -1.38582143e+00],\n",
       "       [ 4.50000000e+00,  8.30000000e+01, -2.05338410e+00],\n",
       "       [ 4.05000000e+00,  8.10000000e+01, -7.18376401e-01],\n",
       "       [ 1.86700000e+00,  4.70000000e+01, -2.26230987e-01],\n",
       "       [ 4.70000000e+00,  8.40000000e+01, -1.38098903e+00],\n",
       "       [ 1.78300000e+00,  5.20000000e+01, -2.69553412e+00],\n",
       "       [ 4.85000000e+00,  8.60000000e+01,  8.55328999e-01],\n",
       "       [ 3.68300000e+00,  8.10000000e+01,  3.92715094e-01],\n",
       "       [ 4.73300000e+00,  7.50000000e+01,  4.89346792e-02],\n",
       "       [ 2.30000000e+00,  5.90000000e+01,  1.49011027e+00],\n",
       "       [ 4.90000000e+00,  8.90000000e+01,  1.93688749e-01],\n",
       "       [ 4.41700000e+00,  7.90000000e+01, -5.50391796e-01],\n",
       "       [ 1.70000000e+00,  5.90000000e+01,  1.44626518e+00],\n",
       "       [ 4.63300000e+00,  8.10000000e+01,  4.22338971e-01],\n",
       "       [ 2.31700000e+00,  5.00000000e+01, -3.28082556e-01],\n",
       "       [ 4.60000000e+00,  8.50000000e+01,  9.24834202e-01],\n",
       "       [ 1.81700000e+00,  5.90000000e+01, -5.74861136e-01],\n",
       "       [ 4.41700000e+00,  8.70000000e+01,  1.77190055e-01],\n",
       "       [ 2.61700000e+00,  5.30000000e+01, -6.54396976e-01],\n",
       "       [ 4.06700000e+00,  6.90000000e+01, -1.26108385e+00],\n",
       "       [ 4.25000000e+00,  7.70000000e+01,  1.32969504e-01],\n",
       "       [ 1.96700000e+00,  5.60000000e+01,  2.62709814e+00],\n",
       "       [ 4.60000000e+00,  8.80000000e+01, -3.09423599e-01],\n",
       "       [ 3.76700000e+00,  8.10000000e+01, -7.73817107e-01],\n",
       "       [ 1.91700000e+00,  4.50000000e+01, -1.02858280e+00],\n",
       "       [ 4.50000000e+00,  8.20000000e+01,  1.03413456e-01],\n",
       "       [ 2.26700000e+00,  5.50000000e+01,  4.43644745e-01],\n",
       "       [ 4.65000000e+00,  9.00000000e+01,  6.14853093e-01],\n",
       "       [ 1.86700000e+00,  4.50000000e+01, -1.11749921e+00],\n",
       "       [ 4.16700000e+00,  8.30000000e+01, -4.76958681e-01],\n",
       "       [ 2.80000000e+00,  5.60000000e+01, -1.17996707e+00],\n",
       "       [ 4.33300000e+00,  8.90000000e+01,  3.08354944e-01],\n",
       "       [ 1.83300000e+00,  4.60000000e+01,  1.48329829e+00],\n",
       "       [ 4.38300000e+00,  8.20000000e+01,  4.10341693e-01],\n",
       "       [ 1.88300000e+00,  5.10000000e+01, -5.47017617e-01],\n",
       "       [ 4.93300000e+00,  8.60000000e+01,  2.30407795e+00],\n",
       "       [ 2.03300000e+00,  5.30000000e+01,  1.43971724e-02],\n",
       "       [ 3.73300000e+00,  7.90000000e+01, -1.02792388e+00],\n",
       "       [ 4.23300000e+00,  8.10000000e+01, -8.41364862e-01],\n",
       "       [ 2.23300000e+00,  6.00000000e+01,  2.37627692e-02],\n",
       "       [ 4.53300000e+00,  8.20000000e+01, -1.56192803e+00],\n",
       "       [ 4.81700000e+00,  7.70000000e+01,  1.25204966e+00],\n",
       "       [ 4.33300000e+00,  7.60000000e+01, -1.04957424e+00],\n",
       "       [ 1.98300000e+00,  5.90000000e+01, -1.29014476e-01],\n",
       "       [ 4.63300000e+00,  8.00000000e+01, -1.32033432e+00],\n",
       "       [ 2.01700000e+00,  4.90000000e+01,  1.01411573e+00],\n",
       "       [ 5.10000000e+00,  9.60000000e+01,  6.36221287e-02],\n",
       "       [ 1.80000000e+00,  5.30000000e+01, -8.69646778e-02],\n",
       "       [ 5.03300000e+00,  7.70000000e+01,  1.29975766e+00],\n",
       "       [ 4.00000000e+00,  7.70000000e+01,  1.31020586e+00],\n",
       "       [ 2.40000000e+00,  6.50000000e+01, -5.80398546e-01],\n",
       "       [ 4.60000000e+00,  8.10000000e+01, -2.28345556e+00],\n",
       "       [ 3.56700000e+00,  7.10000000e+01,  1.24369438e-01],\n",
       "       [ 4.00000000e+00,  7.00000000e+01,  1.49074015e+00],\n",
       "       [ 4.50000000e+00,  8.10000000e+01,  6.38104926e-01],\n",
       "       [ 4.08300000e+00,  9.30000000e+01, -2.06420741e+00],\n",
       "       [ 1.80000000e+00,  5.30000000e+01, -1.60788806e+00],\n",
       "       [ 3.96700000e+00,  8.90000000e+01, -6.50777028e-01],\n",
       "       [ 2.20000000e+00,  4.50000000e+01,  1.15664103e-01],\n",
       "       [ 4.15000000e+00,  8.60000000e+01,  1.92102405e+00],\n",
       "       [ 2.00000000e+00,  5.80000000e+01, -1.58166701e+00],\n",
       "       [ 3.83300000e+00,  7.80000000e+01, -1.16315722e+00],\n",
       "       [ 3.50000000e+00,  6.60000000e+01, -5.13990266e-01],\n",
       "       [ 4.58300000e+00,  7.60000000e+01, -3.86330527e-01],\n",
       "       [ 2.36700000e+00,  6.30000000e+01,  1.87526248e-01],\n",
       "       [ 5.00000000e+00,  8.80000000e+01,  1.81627152e+00],\n",
       "       [ 1.93300000e+00,  5.20000000e+01,  8.60397235e-02],\n",
       "       [ 4.61700000e+00,  9.30000000e+01,  6.33916665e-01],\n",
       "       [ 1.91700000e+00,  4.90000000e+01, -1.40426170e+00],\n",
       "       [ 2.08300000e+00,  5.70000000e+01,  1.73054306e-01],\n",
       "       [ 4.58300000e+00,  7.70000000e+01, -1.02476530e+00],\n",
       "       [ 3.33300000e+00,  6.80000000e+01, -5.79967437e-01],\n",
       "       [ 4.16700000e+00,  8.10000000e+01, -1.19702687e-01],\n",
       "       [ 4.33300000e+00,  8.10000000e+01, -8.12413417e-01],\n",
       "       [ 4.50000000e+00,  7.30000000e+01, -8.40652181e-01],\n",
       "       [ 2.41700000e+00,  5.00000000e+01,  3.35517564e-01],\n",
       "       [ 4.00000000e+00,  8.50000000e+01,  1.52312869e+00],\n",
       "       [ 4.16700000e+00,  7.40000000e+01, -1.27017705e+00],\n",
       "       [ 1.88300000e+00,  5.50000000e+01,  6.57209929e-01],\n",
       "       [ 4.58300000e+00,  7.70000000e+01, -7.37181315e-01],\n",
       "       [ 4.25000000e+00,  8.30000000e+01, -3.76152704e-01],\n",
       "       [ 3.76700000e+00,  8.30000000e+01, -2.79131559e-01],\n",
       "       [ 2.03300000e+00,  5.10000000e+01,  1.92741404e-01],\n",
       "       [ 4.43300000e+00,  7.80000000e+01,  7.87093567e-01],\n",
       "       [ 4.08300000e+00,  8.40000000e+01, -1.37500655e+00],\n",
       "       [ 1.83300000e+00,  4.60000000e+01, -2.82185965e-01],\n",
       "       [ 4.41700000e+00,  8.30000000e+01, -1.15255173e+00],\n",
       "       [ 2.18300000e+00,  5.50000000e+01,  2.51047063e-01],\n",
       "       [ 4.80000000e+00,  8.10000000e+01,  6.08566082e-01],\n",
       "       [ 1.83300000e+00,  5.70000000e+01, -1.67994495e+00],\n",
       "       [ 4.80000000e+00,  7.60000000e+01,  6.23064498e-01],\n",
       "       [ 4.10000000e+00,  8.40000000e+01,  7.48481697e-01],\n",
       "       [ 3.96600000e+00,  7.70000000e+01, -3.79820480e-01],\n",
       "       [ 4.23300000e+00,  8.10000000e+01, -1.58865997e-01],\n",
       "       [ 3.50000000e+00,  8.70000000e+01, -1.39022867e+00],\n",
       "       [ 4.36600000e+00,  7.70000000e+01, -6.59565277e-01],\n",
       "       [ 2.25000000e+00,  5.10000000e+01,  1.81380228e+00],\n",
       "       [ 4.66700000e+00,  7.80000000e+01,  1.18977962e+00],\n",
       "       [ 2.10000000e+00,  6.00000000e+01,  8.57007442e-01],\n",
       "       [ 4.35000000e+00,  8.20000000e+01,  8.40281866e-01],\n",
       "       [ 4.13300000e+00,  9.10000000e+01, -5.46035841e-01],\n",
       "       [ 1.86700000e+00,  5.30000000e+01,  1.48360864e+00],\n",
       "       [ 4.60000000e+00,  7.80000000e+01, -5.20459691e-01],\n",
       "       [ 1.78300000e+00,  4.60000000e+01, -7.06239589e-01],\n",
       "       [ 4.36700000e+00,  7.70000000e+01,  1.24045123e+00],\n",
       "       [ 3.85000000e+00,  8.40000000e+01, -9.07469057e-01],\n",
       "       [ 1.93300000e+00,  4.90000000e+01, -4.48047996e-01],\n",
       "       [ 4.50000000e+00,  8.30000000e+01,  8.45126238e-01],\n",
       "       [ 2.38300000e+00,  7.10000000e+01,  1.24379689e-01],\n",
       "       [ 4.70000000e+00,  8.00000000e+01, -9.33171938e-01],\n",
       "       [ 1.86700000e+00,  4.90000000e+01, -2.33524446e-01],\n",
       "       [ 3.83300000e+00,  7.50000000e+01,  1.26232034e+00],\n",
       "       [ 3.41700000e+00,  6.40000000e+01, -1.24953819e+00],\n",
       "       [ 4.23300000e+00,  7.60000000e+01,  1.22324718e-01],\n",
       "       [ 2.40000000e+00,  5.30000000e+01,  4.52567256e-01],\n",
       "       [ 4.80000000e+00,  9.40000000e+01,  4.99764044e-01],\n",
       "       [ 2.00000000e+00,  5.50000000e+01,  3.59878624e-01],\n",
       "       [ 4.15000000e+00,  7.60000000e+01,  9.21712119e-01],\n",
       "       [ 1.86700000e+00,  5.00000000e+01, -6.96259186e-01],\n",
       "       [ 4.26700000e+00,  8.20000000e+01,  1.26188438e+00],\n",
       "       [ 1.75000000e+00,  5.40000000e+01,  4.96324843e-01],\n",
       "       [ 4.48300000e+00,  7.50000000e+01, -6.94868212e-01],\n",
       "       [ 4.00000000e+00,  7.80000000e+01, -2.52796007e-01],\n",
       "       [ 4.11700000e+00,  7.90000000e+01,  5.15900412e-01],\n",
       "       [ 4.08300000e+00,  7.80000000e+01, -5.59718171e-01],\n",
       "       [ 4.26700000e+00,  7.80000000e+01,  1.81445739e+00],\n",
       "       [ 3.91700000e+00,  7.00000000e+01, -3.39823682e-01],\n",
       "       [ 4.55000000e+00,  7.90000000e+01,  1.46066902e+00],\n",
       "       [ 4.08300000e+00,  7.00000000e+01, -7.25662099e-01],\n",
       "       [ 2.41700000e+00,  5.40000000e+01,  1.03874613e+00],\n",
       "       [ 4.18300000e+00,  8.60000000e+01,  2.28688267e+00],\n",
       "       [ 2.21700000e+00,  5.00000000e+01, -1.75120488e+00],\n",
       "       [ 4.45000000e+00,  9.00000000e+01,  6.82739338e-01],\n",
       "       [ 1.88300000e+00,  5.40000000e+01, -2.45578956e+00],\n",
       "       [ 1.85000000e+00,  5.40000000e+01, -2.05686892e+00],\n",
       "       [ 4.28300000e+00,  7.70000000e+01, -1.86811538e+00],\n",
       "       [ 3.95000000e+00,  7.90000000e+01,  4.93037545e-01],\n",
       "       [ 2.33300000e+00,  6.40000000e+01,  3.43997053e-01],\n",
       "       [ 4.15000000e+00,  7.50000000e+01,  3.87431613e-01],\n",
       "       [ 2.35000000e+00,  4.70000000e+01, -9.36122736e-01],\n",
       "       [ 4.93300000e+00,  8.60000000e+01, -1.00434588e+00],\n",
       "       [ 2.90000000e+00,  6.30000000e+01, -4.25176353e-01],\n",
       "       [ 4.58300000e+00,  8.50000000e+01, -7.49577517e-01],\n",
       "       [ 3.83300000e+00,  8.20000000e+01, -6.97241174e-01],\n",
       "       [ 2.08300000e+00,  5.70000000e+01,  1.13156746e+00],\n",
       "       [ 4.36700000e+00,  8.20000000e+01, -8.76036888e-01],\n",
       "       [ 2.13300000e+00,  6.70000000e+01, -1.81197271e+00],\n",
       "       [ 4.35000000e+00,  7.40000000e+01,  2.53006607e-01],\n",
       "       [ 2.20000000e+00,  5.40000000e+01,  1.44423898e-01],\n",
       "       [ 4.45000000e+00,  8.30000000e+01,  2.97474973e-01],\n",
       "       [ 3.56700000e+00,  7.30000000e+01,  2.92466173e-01],\n",
       "       [ 4.50000000e+00,  7.30000000e+01,  4.88216291e-01],\n",
       "       [ 4.15000000e+00,  8.80000000e+01, -3.68804319e-01],\n",
       "       [ 3.81700000e+00,  8.00000000e+01,  1.34178804e-01],\n",
       "       [ 3.91700000e+00,  7.10000000e+01,  2.07375541e-01],\n",
       "       [ 4.45000000e+00,  8.30000000e+01,  1.23657633e-01],\n",
       "       [ 2.00000000e+00,  5.60000000e+01, -4.58707716e-01],\n",
       "       [ 4.28300000e+00,  7.90000000e+01, -3.58445757e-01],\n",
       "       [ 4.76700000e+00,  7.80000000e+01, -1.09185089e+00],\n",
       "       [ 4.53300000e+00,  8.40000000e+01, -9.28038533e-01],\n",
       "       [ 1.85000000e+00,  5.80000000e+01, -2.29643155e-01],\n",
       "       [ 4.25000000e+00,  8.30000000e+01,  4.16431591e-01],\n",
       "       [ 1.98300000e+00,  4.30000000e+01,  1.14605247e+00],\n",
       "       [ 2.25000000e+00,  6.00000000e+01, -1.13362548e-01],\n",
       "       [ 4.75000000e+00,  7.50000000e+01, -1.22104676e+00],\n",
       "       [ 4.11700000e+00,  8.10000000e+01,  3.93491054e-01],\n",
       "       [ 2.15000000e+00,  4.60000000e+01, -3.43788321e-01],\n",
       "       [ 4.41700000e+00,  9.00000000e+01, -2.84294974e+00],\n",
       "       [ 1.81700000e+00,  4.60000000e+01, -1.71718145e+00],\n",
       "       [ 4.46700000e+00,  7.40000000e+01,  6.88385966e-01]])"
      ]
     },
     "execution_count": 185,
     "metadata": {},
     "output_type": "execute_result"
    }
   ],
   "source": [
    "geyser_third_col = np.random.normal(size=geyser.shape[0])\n",
    "geyser_3col = np.concatenate((geyser, geyser_third_col[:, newaxis]), axis=1)\n",
    "geyser_3col"
   ]
  },
  {
   "cell_type": "code",
   "execution_count": 191,
   "metadata": {},
   "outputs": [
    {
     "data": {
      "text/plain": [
       "<function matplotlib.pyplot.show(*args, **kw)>"
      ]
     },
     "execution_count": 191,
     "metadata": {},
     "output_type": "execute_result"
    },
    {
     "data": {
      "image/png": "[encoded data removed]",
      "text/plain": [
       "<Figure size 432x288 with 1 Axes>"
      ]
     },
     "metadata": {
      "needs_background": "light"
     },
     "output_type": "display_data"
    }
   ],
   "source": [
    "fig2 =plt.figure()\n",
    "graph = fig2.add_subplot(111, projection='3d')\n",
    "graph.scatter(geyser_3col[:, 0], geyser_3col[:, 1], geyser_3col[:, 2], c='r')\n",
    "graph.set_xlabel('eruption duration')\n",
    "graph.set_ylabel('time between eruptions')\n",
    "graph.set_zlabel('random')\n",
    "plt.show"
   ]
  },
  {
   "cell_type": "code",
   "execution_count": 192,
   "metadata": {},
   "outputs": [
    {
     "data": {
      "text/plain": [
       "array([[5.712e+03, 1.800e+00, 3.000e+00],\n",
       "       [6.600e+00, 2.000e+00, 3.000e+00],\n",
       "       [4.450e+01, 1.800e+00, 1.000e+00],\n",
       "       [5.700e+00, 1.800e+00, 5.000e+00],\n",
       "       [4.603e+03, 1.800e+00, 3.000e+00]])"
      ]
     },
     "execution_count": 192,
     "metadata": {},
     "output_type": "execute_result"
    }
   ],
   "source": [
    "# Mammals example:\n",
    "mammals248 = np.loadtxt('mammals.csv', delimiter=';', usecols=[2,4,8], skiprows=1)\n",
    "mammals248[:5,:]"
   ]
  },
  {
   "cell_type": "code",
   "execution_count": 193,
   "metadata": {},
   "outputs": [
    {
     "data": {
      "text/plain": [
       "array(['African elephant  ', 'African giant pouched rat', 'Arctic Fox  ',\n",
       "       'Arctic ground squirrel ', 'Asian elephant  ', 'Baboon   ',\n",
       "       'Big brown bat ', 'Brazilian tapir  ', 'Cat   ', 'Chimpanzee   ',\n",
       "       'Chinchilla   ', 'Cow   ', 'Desert hedgehog  ', 'Donkey   ',\n",
       "       'Eastern American mole ', 'Echidna   ', 'European hedgehog  ',\n",
       "       'Galago   ', 'Genet   ', 'Giant armadillo  ', 'Giraffe   ',\n",
       "       'Goat   ', 'Golden hamster  ', 'Gorilla   ', 'Gray seal  ',\n",
       "       'Gray wolf  ', 'Ground squirrel  ', 'Guinea pig  ', 'Horse   ',\n",
       "       'Jaguar   ', 'Kangaroo   ', 'Lesser short-tailed shrew ',\n",
       "       'Little brown bat ', 'Man   ', 'Mole rat  ', 'Mountain beaver  ',\n",
       "       'Mouse   ', 'Musk shrew  ', 'N. American opossum ',\n",
       "       'Nine-banded armadillo  ', 'Okapi   ', 'Owl monkey  ',\n",
       "       'Patas monkey  ', 'Phanlanger   ', 'Pig   ', 'Rabbit   ',\n",
       "       'Raccoon   ', 'Rat   ', 'Red fox  ', 'Rhesus monkey  ',\n",
       "       'Rock hyrax (Hetero. b)', 'Rock hyrax (Procavia hab)',\n",
       "       'Roe deer  ', 'Sheep   ', 'Slow loris  ', 'Star nosed mole ',\n",
       "       'Tenrec   ', 'Tree hyrax  ', 'Tree shrew  ', 'Vervet   ',\n",
       "       'Water opossum  ', 'Yellow-bellied marmot  '], dtype='<U26')"
      ]
     },
     "execution_count": 193,
     "metadata": {},
     "output_type": "execute_result"
    }
   ],
   "source": [
    "noms = np.genfromtxt('mammals.csv', dtype='str', delimiter=';', usecols=[0], skip_header=1)\n",
    "noms"
   ]
  },
  {
   "cell_type": "code",
   "execution_count": 195,
   "metadata": {},
   "outputs": [
    {
     "data": {
      "image/png": "[encoded data removed]",
      "text/plain": [
       "<Figure size 432x288 with 1 Axes>"
      ]
     },
     "metadata": {
      "needs_background": "light"
     },
     "output_type": "display_data"
    }
   ],
   "source": [
    "# Show data\n",
    "from mpl_toolkits.mplot3d import Axes3D\n",
    "fig3 = plt.figure()\n",
    "ax3 = fig3.add_subplot(111, projection='3d')\n",
    "for i in range(len(noms)):\n",
    "    x,y,z = mammals248[i,0],mammals248[i,1],mammals248[i,2]\n",
    "    ax3.scatter(x,y,z)\n",
    "    ax3.text(x,y,z,noms[i])\n",
    "plt.show()"
   ]
  },
  {
   "cell_type": "code",
   "execution_count": 196,
   "metadata": {},
   "outputs": [
    {
     "data": {
      "text/plain": [
       "array([[ 3.6  , 79.   ],\n",
       "       [ 1.8  , 54.   ],\n",
       "       [ 3.333, 74.   ],\n",
       "       [ 2.283, 62.   ],\n",
       "       [ 4.533, 85.   ]])"
      ]
     },
     "execution_count": 196,
     "metadata": {},
     "output_type": "execute_result"
    }
   ],
   "source": [
    "# scikit learn pre-processing\n",
    "from sklearn import preprocessing\n",
    "geyser = np.loadtxt('geyser.txt')\n",
    "geyser[:5,:]"
   ]
  },
  {
   "cell_type": "code",
   "execution_count": 197,
   "metadata": {},
   "outputs": [
    {
     "data": {
      "text/plain": [
       "array([[ 0.09849886,  0.59712344],\n",
       "       [-1.48145856, -1.24518118],\n",
       "       [-0.13586149,  0.22866251],\n",
       "       [-1.05750332, -0.6556437 ],\n",
       "       [ 0.91744345,  1.03927655]])"
      ]
     },
     "execution_count": 197,
     "metadata": {},
     "output_type": "execute_result"
    }
   ],
   "source": [
    "geyserCR = preprocessing.scale(geyser)\n",
    "geyserCR[:5,:]"
   ]
  },
  {
   "cell_type": "code",
   "execution_count": 199,
   "metadata": {},
   "outputs": [
    {
     "data": {
      "text/plain": [
       "array([ 3.48778309, 70.89705882])"
      ]
     },
     "execution_count": 199,
     "metadata": {},
     "output_type": "execute_result"
    }
   ],
   "source": [
    "geyser.mean(axis=0)\n"
   ]
  },
  {
   "cell_type": "code",
   "execution_count": 200,
   "metadata": {},
   "outputs": [
    {
     "data": {
      "text/plain": [
       "array([4.48579082e-16, 4.27048103e-16])"
      ]
     },
     "execution_count": 200,
     "metadata": {},
     "output_type": "execute_result"
    }
   ],
   "source": [
    "geyserCR.mean(axis=0)"
   ]
  },
  {
   "cell_type": "code",
   "execution_count": 201,
   "metadata": {},
   "outputs": [
    {
     "data": {
      "text/plain": [
       "array([ 1.13927121, 13.56996002])"
      ]
     },
     "execution_count": 201,
     "metadata": {},
     "output_type": "execute_result"
    }
   ],
   "source": [
    "geyser.std(axis=0)"
   ]
  },
  {
   "cell_type": "code",
   "execution_count": 202,
   "metadata": {},
   "outputs": [
    {
     "data": {
      "text/plain": [
       "array([1., 1.])"
      ]
     },
     "execution_count": 202,
     "metadata": {},
     "output_type": "execute_result"
    }
   ],
   "source": [
    "geyserCR.std(axis=0)"
   ]
  },
  {
   "cell_type": "code",
   "execution_count": 203,
   "metadata": {},
   "outputs": [
    {
     "data": {
      "text/plain": [
       "array([4.48579082e-16, 4.27048103e-16])"
      ]
     },
     "execution_count": 203,
     "metadata": {},
     "output_type": "execute_result"
    }
   ],
   "source": [
    "geyserCR.mean(axis=0)"
   ]
  },
  {
   "cell_type": "code",
   "execution_count": null,
   "metadata": {},
   "outputs": [],
   "source": []
  }
 ],
 "metadata": {
  "kernelspec": {
   "display_name": "Python 3",
   "language": "python",
   "name": "python3"
  },
  "language_info": {
   "codemirror_mode": {
    "name": "ipython",
    "version": 3
   },
   "file_extension": ".py",
   "mimetype": "text/x-python",
   "name": "python",
   "nbconvert_exporter": "python",
   "pygments_lexer": "ipython3",
   "version": "3.7.3"
  }
 },
 "nbformat": 4,
 "nbformat_minor": 2
}
